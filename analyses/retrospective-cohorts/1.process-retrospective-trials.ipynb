{
 "cells": [
  {
   "cell_type": "code",
   "execution_count": 1,
   "metadata": {},
   "outputs": [],
   "source": [
    "import glob as glob\n",
    "import pandas as pd\n",
    "\n",
    "redact_germline = True"
   ]
  },
  {
   "cell_type": "markdown",
   "metadata": {},
   "source": [
    "# Process retrospective cohorts\n",
    "Both the illustrate notebook and calculations notebook will require the outputs from both MOAlmanac and PHIAL to be processed. In particular, we clean up the outputs and annotate the two so that we know how the other software annotated the same molecular feature."
   ]
  },
  {
   "cell_type": "code",
   "execution_count": 2,
   "metadata": {},
   "outputs": [],
   "source": [
    "def load_handles_simple(handles):\n",
    "    list_ = []\n",
    "    for handle in handles:\n",
    "        patient_id = handle.split('/')[-1].split('_complete_muts_indels_scna_detailed.txt')[0]\n",
    "        df = pd.read_csv(handle, sep='\\t')\n",
    "        df['patient_id'] = patient_id\n",
    "        list_.append(df)\n",
    "    return pd.concat(list_, ignore_index=True)\n",
    "    \n",
    "def load_handles(handles):\n",
    "    list_ = []\n",
    "    for handle in handles:\n",
    "        list_.append(pd.read_csv(handle, sep='\\t'))\n",
    "    df = pd.concat(list_, ignore_index=True)\n",
    "    return df\n",
    "\n",
    "robinson_phial_handles = glob.glob('2015-Robinson/data/phial/*.txt')\n",
    "vanallen_phial_handles = glob.glob('2015-VanAllen/data/phial/*.txt')\n",
    "\n",
    "robinson_handles = glob.glob('2015-Robinson/data/almanac/*/*.actionable.txt')\n",
    "vanallen_handles = glob.glob('2015-VanAllen/data/almanac/*/*.actionable.txt')\n",
    "\n",
    "robinson_phial = load_handles_simple(robinson_phial_handles)\n",
    "vanallen_phial = load_handles_simple(vanallen_phial_handles)\n",
    "\n",
    "robinson_almanac = load_handles(robinson_handles)\n",
    "vanallen_almanac = load_handles(vanallen_handles)\n",
    "\n",
    "robinson_almanac['cohort'] = 'SU2C'\n",
    "robinson_phial['cohort'] = 'SU2C'\n",
    "vanallen_almanac['cohort'] = 'Melanoma'\n",
    "vanallen_phial['cohort'] = 'Melanoma'\n",
    "\n",
    "phial = pd.concat([robinson_phial, vanallen_phial], ignore_index=True)\n",
    "almanac = pd.concat([robinson_almanac, vanallen_almanac], ignore_index=True)\n",
    "if redact_germline:\n",
    "    almanac = almanac[~almanac['feature_type'].eq('Germline Variant')]\n",
    "\n",
    "phial = phial[~phial['Score_bin'].eq('Filtered Calls')]\n",
    "phial = phial[~phial['Variant_Classification'].eq('lincRNA')]\n",
    "\n",
    "target = pd.read_excel('../knowledge-bases/target/almanac-comparison.xlsx')\n",
    "phial = phial[phial['Gene'].isin(target['Gene'])]"
   ]
  },
  {
   "cell_type": "code",
   "execution_count": null,
   "metadata": {},
   "outputs": [],
   "source": []
  },
  {
   "cell_type": "code",
   "execution_count": null,
   "metadata": {},
   "outputs": [],
   "source": []
  },
  {
   "cell_type": "code",
   "execution_count": 3,
   "metadata": {},
   "outputs": [],
   "source": [
    "def annotate_feature_string_phial(dataframe):\n",
    "    dataframe['Alteration'] = dataframe['Alteration'].replace({'Deleted': 'Deletion', 'Amplified': 'Amplification'})\n",
    "    dataframe['feature_string'] = ''\n",
    "    dataframe['feature_string'] = (dataframe['Gene'].fillna('') + '.' + dataframe['Alteration'].fillna(''))\n",
    "    idx_class = dataframe['Variant_Classification'].isin(['Splice_Site', 'Start_Codon_Del'])\n",
    "    dataframe.loc[idx_class, 'feature_string'] += dataframe.loc[idx_class, 'Variant_Classification']\n",
    "    return dataframe\n",
    "\n",
    "def annotate_feature_string_almanac(dataframe):\n",
    "    dataframe['feature_string'] = ''\n",
    "    idx_mutation = dataframe[dataframe['feature_type'] == 'Somatic Variant'].index\n",
    "    idx_copynumber = dataframe[dataframe['feature_type'] == 'Copy Number'].index\n",
    "    idx_fusion = almanac[almanac['feature_type'].eq('Rearrangement')].index\n",
    "    idx_germline = almanac[almanac['feature_type'].eq('Germline Variant')].index\n",
    "    idx_wgd = almanac[almanac['feature_type'].eq('Aneuploidy')].index\n",
    "    idx_tmb = almanac[almanac['feature_type'].eq('Mutational Burden')].index\n",
    "    idx_signature = almanac[almanac['feature_type'].eq('Mutational Signature')].index\n",
    "    \n",
    "    dataframe.loc[idx_mutation, 'feature_string'] = (dataframe.loc[idx_mutation, 'feature'].fillna('') + '.' + \n",
    "                                                     dataframe.loc[idx_mutation, 'alteration'].fillna(''))\n",
    "    dataframe.loc[idx_copynumber, 'feature_string'] = (dataframe.loc[idx_copynumber, 'feature'].fillna('') + '.' + \n",
    "                                                       dataframe.loc[idx_copynumber, 'alteration_type'].fillna(''))\n",
    "    dataframe.loc[idx_fusion, 'feature_string'] = dataframe.loc[idx_fusion, 'alteration']\n",
    "    dataframe.loc[idx_germline, 'feature_string'] = dataframe.loc[idx_germline, 'feature'].fillna('') + '.' + dataframe.loc[idx_germline, 'alteration'].fillna('') + '.Germline'\n",
    "    dataframe.loc[idx_wgd, 'feature_string'] = dataframe.loc[idx_wgd, 'feature'].fillna('')\n",
    "    dataframe.loc[idx_tmb, 'feature_string'] = dataframe.loc[idx_tmb, 'feature'].fillna('')\n",
    "    dataframe.loc[idx_signature, 'feature_string'] = dataframe.loc[idx_signature, 'feature'].fillna('')\n",
    "    \n",
    "    idx_class = dataframe['alteration_type'].isin(['Splice Site', 'Start_Codon_Del'])\n",
    "    dataframe.loc[idx_class, 'feature_string'] += dataframe.loc[idx_class, 'alteration_type'].str.replace(' ', '_')\n",
    "    return dataframe\n",
    "\n",
    "phial = annotate_feature_string_phial(phial)\n",
    "almanac = annotate_feature_string_almanac(almanac)\n",
    "\n",
    "phial['patient_feature_string'] = phial['patient_id'].fillna('') + '.' + phial['feature_string'].fillna('')\n",
    "almanac['patient_feature_string'] = almanac['patient_id'].fillna('') + '.' + almanac['feature_string'].fillna('')\n",
    "\n",
    "phial = phial[~phial['feature_string'].eq('')]\n",
    "almanac = almanac[~almanac['feature_string'].eq('')]"
   ]
  },
  {
   "cell_type": "code",
   "execution_count": 4,
   "metadata": {},
   "outputs": [],
   "source": [
    "# This feature will be phased out\n",
    "idx_CN = almanac[almanac['feature_type'].eq('Copy Number')].index\n",
    "idx_IAH = almanac[almanac['score_bin'].eq('Investigate Actionability - High')].index\n",
    "idx_IAH_s = almanac[almanac['sensitive_score_bin'].eq('Investigate Actionability - High')].index\n",
    "idx_IAH_r = almanac[almanac['resistance_score_bin'].eq('Investigate Actionability - High')].index\n",
    "idx_IAH_p = almanac[almanac['prognostic_score_bin'].eq('Investigate Actionability - High')].index\n",
    "\n",
    "for column in ['score_bin', 'sensitive_score_bin', 'resistance_score_bin', 'prognostic_score_bin']:\n",
    "    idx = almanac[almanac[column].eq('Investigate Actionability - High')].index\n",
    "    almanac.loc[(idx_CN & idx), column] = 'Putatively Actionable'\n",
    "    \n",
    "# Removing double counted fusions. \n",
    "# This is a feature, not a bug, for reviewing individual fusions; however,\n",
    "# it results in double counting for aggregated reporting. \n",
    "almanac.drop_duplicates(['patient_feature_string'], keep='first', inplace=True)"
   ]
  },
  {
   "cell_type": "code",
   "execution_count": 5,
   "metadata": {},
   "outputs": [
    {
     "data": {
      "text/plain": [
       "Somatic Variant         1132\n",
       "Copy Number              751\n",
       "Mutational Signature     371\n",
       "Rearrangement            232\n",
       "Aneuploidy               137\n",
       "Mutational Burden         47\n",
       "Name: feature_type, dtype: int64"
      ]
     },
     "execution_count": 5,
     "metadata": {},
     "output_type": "execute_result"
    }
   ],
   "source": [
    "almanac['feature_type'].value_counts()"
   ]
  },
  {
   "cell_type": "code",
   "execution_count": 6,
   "metadata": {},
   "outputs": [],
   "source": [
    "# The bin \"Investigate Biological Significance\" is used for CNAs that score within\n",
    "# a TARGET gene but the directionality does not match. Since there are only 95 of them \n",
    "# I am going to label them as \"Investigate Actionability\". There is not an\n",
    "# exact map to Almanac bins because PHIAL/TARGET doesn't check if this has been catalogued\n",
    "# as a CNA, just the direction / alteration_type. Specifically, PHIAL will ask,\n",
    "# \"does TARGET have 'Amplification' catalogued for this gene?\"\n",
    "# Whereas MOAlmanac asks, \"Okay, is this a catalogued gene? Is this a catalogued CNA? \n",
    "# Is this a catalogued Amplification?\"\n",
    "\n",
    "phial['Score_bin'] = phial['Score_bin'].replace({'Investigate Biological Significance': 'Investigate Actionability'})\n",
    "\n",
    "# High priority is given to somatic variants whose gene appears in PHIAL but does not match any further\n",
    "# These are most similar to the Biologically Relevant category\n",
    "phial['Score_bin'] = phial['Score_bin'].replace({'High Priority': 'Biologically Relevant'})\n",
    "\n",
    "almanac['score_bin'] = (almanac['score_bin']\n",
    " .replace('Investigate Actionability - High', 'Investigate Actionability')\n",
    " .replace('Investigate Actionability - Low', 'Investigate Actionability'))"
   ]
  },
  {
   "cell_type": "code",
   "execution_count": 7,
   "metadata": {},
   "outputs": [],
   "source": [
    "all_patients = pd.Index(almanac['patient_id'].drop_duplicates().sort_values())\n",
    "all_features = (\n",
    "    pd.Index(almanac['feature_string'].drop_duplicates().sort_values())\n",
    "    .union(\n",
    "        pd.Index(phial['feature_string'].drop_duplicates().sort_values())\n",
    "    ).drop_duplicates().tolist()\n",
    ")\n",
    "\n",
    "all_considered = pd.DataFrame(columns=['almanac_bin', 'phial_bin'],\n",
    "                             index=pd.MultiIndex.from_product([all_patients, all_features]))\n",
    "\n",
    "almanac_indexed = almanac.loc[:, ['patient_id', 'feature_string', 'score_bin']].drop_duplicates(['patient_id', 'feature_string']).set_index(['patient_id', 'feature_string'])\n",
    "phial_indexed = phial.loc[:, ['patient_id', 'feature_string', 'Score_bin']].drop_duplicates(['patient_id', 'feature_string']).set_index(['patient_id', 'feature_string'])\n",
    "\n",
    "all_considered.loc[almanac_indexed.index, 'almanac_bin'] = (\n",
    "    almanac_indexed.loc[almanac_indexed.index, 'score_bin']\n",
    ")\n",
    "\n",
    "all_considered.loc[phial_indexed.index, 'phial_bin'] = (\n",
    "    phial_indexed.loc[phial_indexed.index, 'Score_bin']\n",
    ")"
   ]
  },
  {
   "cell_type": "code",
   "execution_count": 8,
   "metadata": {},
   "outputs": [],
   "source": [
    "all_considered['sum'] = all_considered.fillna(False).astype(bool).sum(axis=1)\n",
    "df = all_considered[all_considered['sum'].gt(0)]\n",
    "df = df[~df['almanac_bin'].isnull() | df['phial_bin'].isin(['Actionable', 'High Priority', 'Investigate Actionability', 'Investigate Biological Significance', 'Biologically Relevant'])]\n",
    "df = df.reset_index().rename(columns={'level_1': 'feature_string'})\n",
    "\n",
    "df.loc[~df['phial_bin'].isin(['Actionable', 'Investigate Actionability', 'Biologically Relevant']), 'phial_bin'] = pd.NA\n",
    "df['almanac_bin'] = df['almanac_bin'].fillna(pd.NA)\n",
    "df['phial_bin'] = df['phial_bin'].str.replace('Actionable', 'Putatively Actionable')"
   ]
  },
  {
   "cell_type": "code",
   "execution_count": 9,
   "metadata": {},
   "outputs": [
    {
     "data": {
      "text/html": [
       "<div>\n",
       "<style scoped>\n",
       "    .dataframe tbody tr th:only-of-type {\n",
       "        vertical-align: middle;\n",
       "    }\n",
       "\n",
       "    .dataframe tbody tr th {\n",
       "        vertical-align: top;\n",
       "    }\n",
       "\n",
       "    .dataframe thead th {\n",
       "        text-align: right;\n",
       "    }\n",
       "</style>\n",
       "<table border=\"1\" class=\"dataframe\">\n",
       "  <thead>\n",
       "    <tr style=\"text-align: right;\">\n",
       "      <th></th>\n",
       "      <th>patient_id</th>\n",
       "      <th>feature_string</th>\n",
       "      <th>almanac_bin</th>\n",
       "      <th>phial_bin</th>\n",
       "      <th>sum</th>\n",
       "      <th>cohort</th>\n",
       "    </tr>\n",
       "  </thead>\n",
       "  <tbody>\n",
       "    <tr>\n",
       "      <th>0</th>\n",
       "      <td>MEL-IPI_Pat02</td>\n",
       "      <td>BLM.Amplification</td>\n",
       "      <td>Biologically Relevant</td>\n",
       "      <td>&lt;NA&gt;</td>\n",
       "      <td>1</td>\n",
       "      <td>MEL</td>\n",
       "    </tr>\n",
       "    <tr>\n",
       "      <th>1</th>\n",
       "      <td>MEL-IPI_Pat02</td>\n",
       "      <td>BRAF.p.V600E</td>\n",
       "      <td>Putatively Actionable</td>\n",
       "      <td>Putatively Actionable</td>\n",
       "      <td>2</td>\n",
       "      <td>MEL</td>\n",
       "    </tr>\n",
       "    <tr>\n",
       "      <th>2</th>\n",
       "      <td>MEL-IPI_Pat02</td>\n",
       "      <td>COL1A1--CITED4</td>\n",
       "      <td>Investigate Actionability</td>\n",
       "      <td>&lt;NA&gt;</td>\n",
       "      <td>1</td>\n",
       "      <td>MEL</td>\n",
       "    </tr>\n",
       "    <tr>\n",
       "      <th>3</th>\n",
       "      <td>MEL-IPI_Pat02</td>\n",
       "      <td>COSMIC Signature 7</td>\n",
       "      <td>Biologically Relevant</td>\n",
       "      <td>&lt;NA&gt;</td>\n",
       "      <td>1</td>\n",
       "      <td>MEL</td>\n",
       "    </tr>\n",
       "    <tr>\n",
       "      <th>4</th>\n",
       "      <td>MEL-IPI_Pat02</td>\n",
       "      <td>CTNNB1.Amplification</td>\n",
       "      <td>Biologically Relevant</td>\n",
       "      <td>&lt;NA&gt;</td>\n",
       "      <td>1</td>\n",
       "      <td>MEL</td>\n",
       "    </tr>\n",
       "  </tbody>\n",
       "</table>\n",
       "</div>"
      ],
      "text/plain": [
       "      patient_id        feature_string                almanac_bin  \\\n",
       "0  MEL-IPI_Pat02     BLM.Amplification      Biologically Relevant   \n",
       "1  MEL-IPI_Pat02          BRAF.p.V600E      Putatively Actionable   \n",
       "2  MEL-IPI_Pat02        COL1A1--CITED4  Investigate Actionability   \n",
       "3  MEL-IPI_Pat02    COSMIC Signature 7      Biologically Relevant   \n",
       "4  MEL-IPI_Pat02  CTNNB1.Amplification      Biologically Relevant   \n",
       "\n",
       "               phial_bin  sum cohort  \n",
       "0                   <NA>    1    MEL  \n",
       "1  Putatively Actionable    2    MEL  \n",
       "2                   <NA>    1    MEL  \n",
       "3                   <NA>    1    MEL  \n",
       "4                   <NA>    1    MEL  "
      ]
     },
     "execution_count": 9,
     "metadata": {},
     "output_type": "execute_result"
    }
   ],
   "source": [
    "df['cohort'] = ''\n",
    "idx = df['patient_id'].str.contains('MEL')\n",
    "df.loc[idx, 'cohort'] = 'MEL'\n",
    "df.loc[~idx, 'cohort'] = 'SU2C'\n",
    "df.head()"
   ]
  },
  {
   "cell_type": "code",
   "execution_count": 10,
   "metadata": {},
   "outputs": [
    {
     "data": {
      "text/html": [
       "<div>\n",
       "<style scoped>\n",
       "    .dataframe tbody tr th:only-of-type {\n",
       "        vertical-align: middle;\n",
       "    }\n",
       "\n",
       "    .dataframe tbody tr th {\n",
       "        vertical-align: top;\n",
       "    }\n",
       "\n",
       "    .dataframe thead th {\n",
       "        text-align: right;\n",
       "    }\n",
       "</style>\n",
       "<table border=\"1\" class=\"dataframe\">\n",
       "  <thead>\n",
       "    <tr style=\"text-align: right;\">\n",
       "      <th></th>\n",
       "      <th>patient_id</th>\n",
       "      <th>feature_string</th>\n",
       "      <th>almanac_bin</th>\n",
       "      <th>phial_bin</th>\n",
       "      <th>sum</th>\n",
       "      <th>cohort</th>\n",
       "    </tr>\n",
       "  </thead>\n",
       "  <tbody>\n",
       "    <tr>\n",
       "      <th>3065</th>\n",
       "      <td>TP_2064</td>\n",
       "      <td>COSMIC Signature 15</td>\n",
       "      <td>Biologically Relevant</td>\n",
       "      <td>&lt;NA&gt;</td>\n",
       "      <td>1</td>\n",
       "      <td>SU2C</td>\n",
       "    </tr>\n",
       "    <tr>\n",
       "      <th>3066</th>\n",
       "      <td>TP_2064</td>\n",
       "      <td>COSMIC Signature 6</td>\n",
       "      <td>Biologically Relevant</td>\n",
       "      <td>&lt;NA&gt;</td>\n",
       "      <td>1</td>\n",
       "      <td>SU2C</td>\n",
       "    </tr>\n",
       "    <tr>\n",
       "      <th>3067</th>\n",
       "      <td>TP_2064</td>\n",
       "      <td>MPL.p.A134T</td>\n",
       "      <td>Investigate Actionability</td>\n",
       "      <td>Biologically Relevant</td>\n",
       "      <td>2</td>\n",
       "      <td>SU2C</td>\n",
       "    </tr>\n",
       "    <tr>\n",
       "      <th>3068</th>\n",
       "      <td>TP_2064</td>\n",
       "      <td>TP53.p.H179R</td>\n",
       "      <td>Investigate Actionability</td>\n",
       "      <td>Investigate Actionability</td>\n",
       "      <td>2</td>\n",
       "      <td>SU2C</td>\n",
       "    </tr>\n",
       "    <tr>\n",
       "      <th>3069</th>\n",
       "      <td>TP_2064</td>\n",
       "      <td>Whole genome doubling</td>\n",
       "      <td>Investigate Actionability</td>\n",
       "      <td>&lt;NA&gt;</td>\n",
       "      <td>1</td>\n",
       "      <td>SU2C</td>\n",
       "    </tr>\n",
       "  </tbody>\n",
       "</table>\n",
       "</div>"
      ],
      "text/plain": [
       "     patient_id         feature_string                almanac_bin  \\\n",
       "3065    TP_2064    COSMIC Signature 15      Biologically Relevant   \n",
       "3066    TP_2064     COSMIC Signature 6      Biologically Relevant   \n",
       "3067    TP_2064            MPL.p.A134T  Investigate Actionability   \n",
       "3068    TP_2064           TP53.p.H179R  Investigate Actionability   \n",
       "3069    TP_2064  Whole genome doubling  Investigate Actionability   \n",
       "\n",
       "                      phial_bin  sum cohort  \n",
       "3065                       <NA>    1   SU2C  \n",
       "3066                       <NA>    1   SU2C  \n",
       "3067      Biologically Relevant    2   SU2C  \n",
       "3068  Investigate Actionability    2   SU2C  \n",
       "3069                       <NA>    1   SU2C  "
      ]
     },
     "execution_count": 10,
     "metadata": {},
     "output_type": "execute_result"
    }
   ],
   "source": [
    "df.tail()"
   ]
  },
  {
   "cell_type": "code",
   "execution_count": 11,
   "metadata": {},
   "outputs": [],
   "source": [
    "df = df.merge(almanac.loc[:, ['sensitive_predictive_implication', 'patient_id', 'feature_string']],\n",
    "        on=['patient_id', 'feature_string'], how='left')\n",
    "df = df.merge(almanac.loc[:, ['resistance_predictive_implication', 'patient_id', 'feature_string']],\n",
    "        on=['patient_id', 'feature_string'], how='left')\n",
    "df = df.merge(almanac.loc[:, ['prognostic_predictive_implication', 'patient_id', 'feature_string']],\n",
    "        on=['patient_id', 'feature_string'], how='left')\n",
    "df = df.merge(almanac.loc[:, ['clinvar', 'patient_id', 'feature_string']],\n",
    "        on=['patient_id', 'feature_string'], how='left')"
   ]
  },
  {
   "cell_type": "code",
   "execution_count": 12,
   "metadata": {},
   "outputs": [
    {
     "data": {
      "text/plain": [
       "0           BLM Amplification\n",
       "1                BRAF p.V600E\n",
       "2              COL1A1--CITED4\n",
       "3          COSMIC Signature 7\n",
       "4        CTNNB1 Amplification\n",
       "                ...          \n",
       "3065      COSMIC Signature 15\n",
       "3066       COSMIC Signature 6\n",
       "3067              MPL p.A134T\n",
       "3068             TP53 p.H179R\n",
       "3069    Whole genome doubling\n",
       "Name: feature_string, Length: 3070, dtype: object"
      ]
     },
     "execution_count": 12,
     "metadata": {},
     "output_type": "execute_result"
    }
   ],
   "source": [
    "df['feature_type'] = ''\n",
    "df.loc[df['feature_string'].str.contains('Amplification'), 'feature_type'] = 'Somatic copy number'\n",
    "df.loc[df['feature_string'].str.contains('Deletion'), 'feature_type'] = 'Somatic copy number'\n",
    "df.loc[df['feature_string'].str.contains('--'), 'feature_type'] = 'Rearrangement'\n",
    "df.loc[df['feature_string'].str.contains('Germline'), 'feature_type'] = 'Germline'\n",
    "df.loc[df['feature_string'].eq('Whole genome doubling'), 'feature_type'] = 'Aneuploidy'\n",
    "df.loc[df['feature_string'].eq('High Mutational Burden'), 'feature_type'] = 'Tumor mutational burden'\n",
    "df.loc[df['feature_string'].str.contains('COSMIC Signature'), 'feature_type'] = 'Mutational signature'\n",
    "df.loc[df['feature_type'].eq(''), 'feature_type'] = 'Somatic variant'\n",
    "\n",
    "df['feature_string'].str.replace('.', ' ').str.replace('p ', 'p.')"
   ]
  },
  {
   "cell_type": "code",
   "execution_count": 13,
   "metadata": {},
   "outputs": [
    {
     "data": {
      "text/plain": [
       "Biologically Relevant        1104\n",
       "Investigate Actionability    1099\n",
       "Putatively Actionable         467\n",
       "Name: almanac_bin, dtype: int64"
      ]
     },
     "execution_count": 13,
     "metadata": {},
     "output_type": "execute_result"
    }
   ],
   "source": [
    "df['almanac_bin'].value_counts()"
   ]
  },
  {
   "cell_type": "code",
   "execution_count": 14,
   "metadata": {},
   "outputs": [
    {
     "data": {
      "text/plain": [
       "Biologically Relevant        834\n",
       "Investigate Actionability    547\n",
       "Putatively Actionable         73\n",
       "Name: phial_bin, dtype: int64"
      ]
     },
     "execution_count": 14,
     "metadata": {},
     "output_type": "execute_result"
    }
   ],
   "source": [
    "df['phial_bin'].value_counts()"
   ]
  },
  {
   "cell_type": "code",
   "execution_count": 15,
   "metadata": {},
   "outputs": [],
   "source": [
    "idx_cdkn2ab = df['feature_string'].isin(['CDKN2A.Deletion', 'CDKN2B.Deletion'])\n",
    "df.loc[idx_cdkn2ab, 'feature_string'] = 'CDKN2A/B.Deletion'\n",
    "df_cdkn2ab = df.loc[idx_cdkn2ab, :].copy(deep=True)\n",
    "df_other = df.loc[~idx_cdkn2ab, :].copy(deep=True)"
   ]
  },
  {
   "cell_type": "code",
   "execution_count": 16,
   "metadata": {},
   "outputs": [
    {
     "data": {
      "text/plain": [
       "(85, 11)"
      ]
     },
     "execution_count": 16,
     "metadata": {},
     "output_type": "execute_result"
    }
   ],
   "source": [
    "df_cdkn2ab.shape"
   ]
  },
  {
   "cell_type": "code",
   "execution_count": 17,
   "metadata": {},
   "outputs": [
    {
     "data": {
      "text/plain": [
       "Investigate Actionability    68\n",
       "                             17\n",
       "Name: phial_bin, dtype: int64"
      ]
     },
     "execution_count": 17,
     "metadata": {},
     "output_type": "execute_result"
    }
   ],
   "source": [
    "df_cdkn2ab['phial_bin'].fillna('').value_counts()"
   ]
  },
  {
   "cell_type": "code",
   "execution_count": 18,
   "metadata": {},
   "outputs": [
    {
     "data": {
      "text/plain": [
       "Putatively Actionable    83\n",
       "                          2\n",
       "Name: almanac_bin, dtype: int64"
      ]
     },
     "execution_count": 18,
     "metadata": {},
     "output_type": "execute_result"
    }
   ],
   "source": [
    "df_cdkn2ab['almanac_bin'].fillna('').value_counts()"
   ]
  },
  {
   "cell_type": "code",
   "execution_count": 19,
   "metadata": {},
   "outputs": [],
   "source": [
    "for label, group in df_cdkn2ab.groupby('patient_id'):\n",
    "    almanac_values = group['almanac_bin'].dropna().drop_duplicates()\n",
    "    phial_values = group['phial_bin'].dropna().drop_duplicates()\n",
    "    df_cdkn2ab.loc[group.index, 'almanac_bin'] = almanac_values.tolist()[0] if almanac_values.tolist() else pd.NA\n",
    "    df_cdkn2ab.loc[group.index, 'phial_bin'] = phial_values.tolist()[0] if phial_values.tolist() else pd.NA\n",
    "df_cdkn2ab.drop_duplicates(['patient_id'], keep='first', inplace=True)\n",
    "df = pd.concat([df_cdkn2ab, df_other], ignore_index=True)"
   ]
  },
  {
   "cell_type": "code",
   "execution_count": 20,
   "metadata": {},
   "outputs": [
    {
     "data": {
      "text/html": [
       "<div>\n",
       "<style scoped>\n",
       "    .dataframe tbody tr th:only-of-type {\n",
       "        vertical-align: middle;\n",
       "    }\n",
       "\n",
       "    .dataframe tbody tr th {\n",
       "        vertical-align: top;\n",
       "    }\n",
       "\n",
       "    .dataframe thead th {\n",
       "        text-align: right;\n",
       "    }\n",
       "</style>\n",
       "<table border=\"1\" class=\"dataframe\">\n",
       "  <thead>\n",
       "    <tr style=\"text-align: right;\">\n",
       "      <th></th>\n",
       "      <th>patient_id</th>\n",
       "      <th>feature_string</th>\n",
       "      <th>almanac_bin</th>\n",
       "      <th>phial_bin</th>\n",
       "      <th>sum</th>\n",
       "      <th>cohort</th>\n",
       "      <th>sensitive_predictive_implication</th>\n",
       "      <th>resistance_predictive_implication</th>\n",
       "      <th>prognostic_predictive_implication</th>\n",
       "      <th>clinvar</th>\n",
       "      <th>feature_type</th>\n",
       "    </tr>\n",
       "  </thead>\n",
       "  <tbody>\n",
       "    <tr>\n",
       "      <th>2663</th>\n",
       "      <td>SC_9054</td>\n",
       "      <td>CDKN2A/B.Deletion</td>\n",
       "      <td>Putatively Actionable</td>\n",
       "      <td>Investigate Actionability</td>\n",
       "      <td>2</td>\n",
       "      <td>SU2C</td>\n",
       "      <td>Preclinical</td>\n",
       "      <td>NaN</td>\n",
       "      <td>NaN</td>\n",
       "      <td>NaN</td>\n",
       "      <td>Somatic copy number</td>\n",
       "    </tr>\n",
       "    <tr>\n",
       "      <th>2664</th>\n",
       "      <td>SC_9054</td>\n",
       "      <td>CDKN2A/B.Deletion</td>\n",
       "      <td>Putatively Actionable</td>\n",
       "      <td>Investigate Actionability</td>\n",
       "      <td>2</td>\n",
       "      <td>SU2C</td>\n",
       "      <td>Preclinical</td>\n",
       "      <td>NaN</td>\n",
       "      <td>NaN</td>\n",
       "      <td>NaN</td>\n",
       "      <td>Somatic copy number</td>\n",
       "    </tr>\n",
       "  </tbody>\n",
       "</table>\n",
       "</div>"
      ],
      "text/plain": [
       "     patient_id     feature_string            almanac_bin  \\\n",
       "2663    SC_9054  CDKN2A/B.Deletion  Putatively Actionable   \n",
       "2664    SC_9054  CDKN2A/B.Deletion  Putatively Actionable   \n",
       "\n",
       "                      phial_bin  sum cohort sensitive_predictive_implication  \\\n",
       "2663  Investigate Actionability    2   SU2C                      Preclinical   \n",
       "2664  Investigate Actionability    2   SU2C                      Preclinical   \n",
       "\n",
       "     resistance_predictive_implication prognostic_predictive_implication  \\\n",
       "2663                               NaN                               NaN   \n",
       "2664                               NaN                               NaN   \n",
       "\n",
       "     clinvar         feature_type  \n",
       "2663     NaN  Somatic copy number  \n",
       "2664     NaN  Somatic copy number  "
      ]
     },
     "execution_count": 20,
     "metadata": {},
     "output_type": "execute_result"
    }
   ],
   "source": [
    "group"
   ]
  },
  {
   "cell_type": "code",
   "execution_count": 21,
   "metadata": {},
   "outputs": [
    {
     "data": {
      "text/plain": [
       "Putatively Actionable    43\n",
       "Name: almanac_bin, dtype: int64"
      ]
     },
     "execution_count": 21,
     "metadata": {},
     "output_type": "execute_result"
    }
   ],
   "source": [
    "df[df['feature_string'].eq('CDKN2A/B.Deletion')]['almanac_bin'].value_counts()"
   ]
  },
  {
   "cell_type": "code",
   "execution_count": 22,
   "metadata": {},
   "outputs": [
    {
     "data": {
      "text/plain": [
       "Investigate Actionability    35\n",
       "Name: phial_bin, dtype: int64"
      ]
     },
     "execution_count": 22,
     "metadata": {},
     "output_type": "execute_result"
    }
   ],
   "source": [
    "df[df['feature_string'].eq('CDKN2A/B.Deletion')]['phial_bin'].value_counts()"
   ]
  },
  {
   "cell_type": "code",
   "execution_count": 23,
   "metadata": {},
   "outputs": [
    {
     "data": {
      "text/plain": [
       "Somatic variant            1444\n",
       "Somatic copy number         798\n",
       "Mutational signature        371\n",
       "Rearrangement               232\n",
       "Aneuploidy                  137\n",
       "Tumor mutational burden      47\n",
       "Name: feature_type, dtype: int64"
      ]
     },
     "execution_count": 23,
     "metadata": {},
     "output_type": "execute_result"
    }
   ],
   "source": [
    "df['feature_type'].value_counts()"
   ]
  },
  {
   "cell_type": "code",
   "execution_count": 24,
   "metadata": {},
   "outputs": [],
   "source": [
    "df['feature_str_simple'] = ''\n",
    "idx_direct = df['feature_type'].isin(['Mutational signature', 'Rearrangement'])\n",
    "idx_wgd = df['feature_type'].eq('Aneuploidy')\n",
    "idx_tmb = df['feature_type'].eq('Tumor mutational burden')\n",
    "idx_germline = df['feature_type'].eq('Germline')\n",
    "idx_cn = df['feature_type'].eq('Somatic copy number')\n",
    "idx_som = df['feature_type'].eq('Somatic variant')\n",
    "\n",
    "df.loc[idx_direct, 'feature_str_simple'] = df.loc[idx_direct, 'feature_string']\n",
    "df.loc[idx_wgd, 'feature_str_simple'] = 'WGD'\n",
    "df.loc[idx_tmb, 'feature_str_simple'] = 'TMB'\n",
    "df.loc[idx_germline, 'feature_str_simple'] = (df.loc[idx_germline, 'feature_string']\n",
    "                                              .str.split('.').str[0] \n",
    "                                              .add(' Germline'))\n",
    "df.loc[idx_som, 'feature_str_simple'] = df.loc[idx_som, 'feature_string'].str.split('.').str[0]\n",
    "df.loc[idx_cn, 'feature_str_simple'] = (df.loc[idx_cn, 'feature_string']\n",
    "                                        .str.replace('Amplification', 'Amp')\n",
    "                                        .str.replace('Deletion', 'Del')\n",
    "                                        .str.replace('.', ' ')\n",
    "                                       )\n"
   ]
  },
  {
   "cell_type": "code",
   "execution_count": 25,
   "metadata": {},
   "outputs": [
    {
     "data": {
      "text/plain": [
       "Biologically Relevant        1104\n",
       "Investigate Actionability    1099\n",
       "Putatively Actionable         427\n",
       "Name: almanac_bin, dtype: int64"
      ]
     },
     "execution_count": 25,
     "metadata": {},
     "output_type": "execute_result"
    }
   ],
   "source": [
    "df['almanac_bin'].value_counts()"
   ]
  },
  {
   "cell_type": "code",
   "execution_count": 26,
   "metadata": {},
   "outputs": [
    {
     "data": {
      "text/plain": [
       "Biologically Relevant        834\n",
       "Investigate Actionability    514\n",
       "Putatively Actionable         73\n",
       "Name: phial_bin, dtype: int64"
      ]
     },
     "execution_count": 26,
     "metadata": {},
     "output_type": "execute_result"
    }
   ],
   "source": [
    "df['phial_bin'].value_counts()"
   ]
  },
  {
   "cell_type": "code",
   "execution_count": 27,
   "metadata": {},
   "outputs": [],
   "source": [
    "df.to_csv('retrospective.actionability.txt', sep='\\t', index=False)"
   ]
  },
  {
   "cell_type": "code",
   "execution_count": 28,
   "metadata": {},
   "outputs": [
    {
     "data": {
      "text/plain": [
       "Series([], Name: exac_common, dtype: int64)"
      ]
     },
     "execution_count": 28,
     "metadata": {},
     "output_type": "execute_result"
    }
   ],
   "source": [
    "germline = almanac[almanac['feature_type'].eq('Germline Variant') & ~almanac['score_bin'].isin(['Biologically Relevant'])]\n",
    "germline[germline['alteration_type'].eq('Missense')]['exac_common'].value_counts()"
   ]
  },
  {
   "cell_type": "markdown",
   "metadata": {},
   "source": [
    "## Construct matrix of feature types x samples\n",
    "0 = Wild type or biologically relevant for feature type  \n",
    "1 = Molecular Oncology Almanac only Investigate Actionability or Putatively Actionable  \n",
    "2 = Molecular Oncology Almanac & PHIAL observed Investigate Actionability or Putatively Actionable  "
   ]
  },
  {
   "cell_type": "code",
   "execution_count": 29,
   "metadata": {},
   "outputs": [],
   "source": [
    "df['value'] = 0\n",
    "\n",
    "idx_almanac = df['almanac_bin'].fillna('').isin(['Putatively Actionable', 'Investigate Actionability'])\n",
    "idx_phial = df['phial_bin'].fillna('').isin(['Putatively Actionable', 'Investigate Actionability'])\n",
    "\n",
    "df['value'] = 0\n",
    "df.loc[idx_almanac, 'value'] = 1\n",
    "df.loc[idx_almanac & idx_phial, 'value'] = 2"
   ]
  },
  {
   "cell_type": "code",
   "execution_count": 30,
   "metadata": {},
   "outputs": [],
   "source": [
    "df['feature_type'] = df['feature_type'].str.replace('Germline', 'Germline variant')\n",
    "\n",
    "def pivot_features_table(dataframe, cohort):\n",
    "    subset = dataframe[dataframe['cohort'].eq(cohort)]\n",
    "    df = (subset\n",
    "          .sort_values('value', ascending=False)\n",
    "          .loc[:, ['patient_id', 'feature_type', 'value']]\n",
    "          .drop_duplicates(['patient_id', 'feature_type'], keep='first')\n",
    "          .pivot_table(columns='patient_id', index='feature_type', values='value', fill_value=0)\n",
    "         )\n",
    "    display_order = ['Somatic variant', 'Somatic copy number', 'Rearrangement', 'Germline variant', 'Aneuploidy', 'Tumor mutational burden', 'Mutational signature']\n",
    "    df = df.reindex(display_order)\n",
    "    return df.T.sort_values(by=df.index.tolist(), axis=0, ascending=False).T\n",
    "\n",
    "vanallen_pivoted = pivot_features_table(df, 'MEL')\n",
    "robinson_pivoted = pivot_features_table(df, 'SU2C')"
   ]
  },
  {
   "cell_type": "code",
   "execution_count": 31,
   "metadata": {},
   "outputs": [],
   "source": [
    "vanallen_pivoted.to_csv('retrospective.pivoted.vanallen.txt', sep='\\t')\n",
    "robinson_pivoted.to_csv('retrospective.pivoted.robinson.txt', sep='\\t')"
   ]
  },
  {
   "cell_type": "markdown",
   "metadata": {},
   "source": [
    "## Fraction of samples with therapeutic sensitivity by evidence"
   ]
  },
  {
   "cell_type": "code",
   "execution_count": 32,
   "metadata": {},
   "outputs": [],
   "source": [
    "def return_max_per_patient(dataframe, samples):\n",
    "    inverse_map = {\n",
    "        0.0: 'No sensitive',\n",
    "        1.0: 'Inferential', 2.0: 'Preclinical', 3.0: 'Clinical evidence', 4.0: 'Clinical trial',\n",
    "        5.0: 'Guideline', 6.0: 'FDA-Approved'}\n",
    "    series = pd.Series(inverse_map[0.0], index=samples, name='max_imp')\n",
    "    grouped = dataframe.groupby(['patient_id'])['sensitive_score']\n",
    "    for group, value in grouped:\n",
    "        series.loc[group] = inverse_map[value.max()]\n",
    "    return series\n",
    "\n",
    "values_map = {'Inferential': 1.0, \n",
    "              'Preclinical': 2.0, \n",
    "              'Clinical evidence': 3.0,\n",
    "              'Clinical trial': 4.0,\n",
    "              'Guideline': 5.0,\n",
    "              'FDA-Approved': 6.0}\n",
    "\n",
    "sensitive = df[df['sensitive_predictive_implication'].notnull()].reset_index(drop=True)\n",
    "sensitive['sensitive_score'] = sensitive['sensitive_predictive_implication'].replace(values_map)\n",
    "\n",
    "robinson_samples = df[df['cohort'].eq('SU2C')]['patient_id'].drop_duplicates().tolist()\n",
    "vanallen_samples = df[df['cohort'].eq('MEL')]['patient_id'].drop_duplicates().tolist()\n",
    "\n",
    "robinson_max = return_max_per_patient(sensitive[sensitive['cohort'].eq('SU2C')], robinson_samples)\n",
    "vanallen_max = return_max_per_patient(sensitive[sensitive['cohort'].eq('MEL')], vanallen_samples)\n",
    "\n",
    "robinson_max_vc = robinson_max.value_counts().reindex(['FDA-Approved', 'Guideline', \n",
    "                                                       'Clinical trial', 'Clinical evidence', \n",
    "                                                       'Preclinical', 'Inferential']).fillna(0.0)\n",
    "robinson_max_vc['WT'] = len(robinson_samples) - robinson_max_vc.astype(int).sum()\n",
    "robinson_max_vc_fract = (round(robinson_max_vc / len(robinson_samples), 2)*100).astype(int).astype(str)\n",
    "\n",
    "vanallen_max_vc = vanallen_max.value_counts().reindex(['FDA-Approved', 'Guideline', \n",
    "                                                       'Clinical trial', 'Clinical evidence', \n",
    "                                                       'Preclinical', 'Inferential']).fillna(0.0)\n",
    "vanallen_max_vc['WT'] = len(vanallen_samples) - vanallen_max_vc.astype(int).sum()\n",
    "vanallen_max_vc_fract = (round(vanallen_max_vc / len(vanallen_samples), 2)*100).astype(int).astype(str)\n",
    "\n",
    "vanallen_counts_sens = pd.concat([vanallen_max_vc, vanallen_max_vc_fract], axis=1).reset_index()\n",
    "vanallen_counts_sens.columns = ['evidence', 'counts', 'fraction']\n",
    "\n",
    "robinson_counts_sens = pd.concat([robinson_max_vc, robinson_max_vc_fract], axis=1).reset_index()\n",
    "robinson_counts_sens.columns = ['evidence', 'counts', 'fraction']\n",
    "\n",
    "vanallen_counts_sens['fraction'] = vanallen_counts_sens['fraction'].astype(int).divide(100)\n",
    "robinson_counts_sens['fraction'] = robinson_counts_sens['fraction'].astype(int).divide(100)\n",
    "\n",
    "labels = ['FDA', 'Guideline', 'Clinical trial', \n",
    "          'Clinical evidence', 'Preclinical', 'Inferential', \n",
    "          'No event associated with therapeutic sensitivity']\n",
    "\n",
    "vanallen_counts_sens['label'] = labels\n",
    "robinson_counts_sens['label'] = labels\n",
    "\n",
    "# Due to rounding, the fraction doesn't quite equal 100, we make a couple of adjustments for the display\n",
    "vanallen_counts_sens.loc[6, 'fraction'] = 0.04\n",
    "robinson_counts_sens.loc[6, 'fraction'] = 0.07\n",
    "\n",
    "vanallen_counts_sens.to_csv('retrospective.sensitivity-by-evidence.vanallen.txt', sep='\\t', index=False)\n",
    "robinson_counts_sens.to_csv('retrospective.sensitivity-by-evidence.robinson.txt', sep='\\t', index=False)"
   ]
  },
  {
   "cell_type": "markdown",
   "metadata": {},
   "source": [
    "## Count number of features called between PHIAL/TARGET and MOAlmanac for MEL and Prostate\n",
    "Per feature type, we count the number of events per cohort and per methodology"
   ]
  },
  {
   "cell_type": "code",
   "execution_count": 33,
   "metadata": {},
   "outputs": [],
   "source": [
    "feature_types = ['Somatic variant', 'Somatic copy number', 'Rearrangement', 'Germline variant', \n",
    "                 'Tumor mutational burden', 'Mutational signature', 'Aneuploidy']\n",
    "index_values = ['PHIAL/TARGET', 'Molecular Oncology Almanac']\n",
    "\n",
    "idx_mel = df['cohort'].eq('MEL')\n",
    "idx_su2c = df['cohort'].eq('SU2C')\n",
    "idx_almanac = df['almanac_bin'].fillna('').isin(['Putatively Actionable', 'Investigate Actionability'])\n",
    "idx_phial = df['phial_bin'].fillna('').isin(['Putatively Actionable', 'Investigate Actionability'])\n",
    "\n",
    "counts_mel = pd.DataFrame(0, columns = feature_types, index = index_values).T\n",
    "counts_mel.loc[feature_types, 'PHIAL/TARGET'] = df[idx_mel & idx_phial]['feature_type'].value_counts()\n",
    "counts_mel.loc[feature_types, 'Molecular Oncology Almanac'] = df[idx_mel & idx_almanac]['feature_type'].value_counts()\n",
    "counts_mel.fillna(0, inplace=True)\n",
    "counts_mel = counts_mel.T\n",
    "\n",
    "counts_su2c = pd.DataFrame(0, columns = feature_types, index = index_values).T\n",
    "counts_su2c.loc[feature_types, 'PHIAL/TARGET'] = df[idx_su2c & idx_phial]['feature_type'].value_counts()\n",
    "counts_su2c.loc[feature_types, 'Molecular Oncology Almanac'] = df[idx_su2c & idx_almanac]['feature_type'].value_counts()\n",
    "counts_su2c.fillna(0, inplace=True)\n",
    "counts_su2c = counts_su2c.T\n",
    "\n",
    "counts_mel.to_csv('retrospective.feature-type-counts.vanallen.txt', sep='\\t', index_label='method')\n",
    "counts_su2c.to_csv('retrospective.feature-type-counts.robinson.txt', sep='\\t', index_label='method')\n"
   ]
  },
  {
   "cell_type": "code",
   "execution_count": 34,
   "metadata": {},
   "outputs": [
    {
     "data": {
      "text/html": [
       "<div>\n",
       "<style scoped>\n",
       "    .dataframe tbody tr th:only-of-type {\n",
       "        vertical-align: middle;\n",
       "    }\n",
       "\n",
       "    .dataframe tbody tr th {\n",
       "        vertical-align: top;\n",
       "    }\n",
       "\n",
       "    .dataframe thead th {\n",
       "        text-align: right;\n",
       "    }\n",
       "</style>\n",
       "<table border=\"1\" class=\"dataframe\">\n",
       "  <thead>\n",
       "    <tr style=\"text-align: right;\">\n",
       "      <th></th>\n",
       "      <th>Somatic variant</th>\n",
       "      <th>Somatic copy number</th>\n",
       "      <th>Rearrangement</th>\n",
       "      <th>Germline variant</th>\n",
       "      <th>Tumor mutational burden</th>\n",
       "      <th>Mutational signature</th>\n",
       "      <th>Aneuploidy</th>\n",
       "    </tr>\n",
       "  </thead>\n",
       "  <tbody>\n",
       "    <tr>\n",
       "      <th>PHIAL/TARGET</th>\n",
       "      <td>167.0</td>\n",
       "      <td>98.0</td>\n",
       "      <td>0.0</td>\n",
       "      <td>0.0</td>\n",
       "      <td>0.0</td>\n",
       "      <td>0.0</td>\n",
       "      <td>0.0</td>\n",
       "    </tr>\n",
       "    <tr>\n",
       "      <th>Molecular Oncology Almanac</th>\n",
       "      <td>584.0</td>\n",
       "      <td>138.0</td>\n",
       "      <td>19.0</td>\n",
       "      <td>0.0</td>\n",
       "      <td>43.0</td>\n",
       "      <td>5.0</td>\n",
       "      <td>62.0</td>\n",
       "    </tr>\n",
       "  </tbody>\n",
       "</table>\n",
       "</div>"
      ],
      "text/plain": [
       "                            Somatic variant  Somatic copy number  \\\n",
       "PHIAL/TARGET                          167.0                 98.0   \n",
       "Molecular Oncology Almanac            584.0                138.0   \n",
       "\n",
       "                            Rearrangement  Germline variant  \\\n",
       "PHIAL/TARGET                          0.0               0.0   \n",
       "Molecular Oncology Almanac           19.0               0.0   \n",
       "\n",
       "                            Tumor mutational burden  Mutational signature  \\\n",
       "PHIAL/TARGET                                    0.0                   0.0   \n",
       "Molecular Oncology Almanac                     43.0                   5.0   \n",
       "\n",
       "                            Aneuploidy  \n",
       "PHIAL/TARGET                       0.0  \n",
       "Molecular Oncology Almanac        62.0  "
      ]
     },
     "execution_count": 34,
     "metadata": {},
     "output_type": "execute_result"
    }
   ],
   "source": [
    "counts_mel"
   ]
  },
  {
   "cell_type": "code",
   "execution_count": 35,
   "metadata": {},
   "outputs": [
    {
     "data": {
      "text/html": [
       "<div>\n",
       "<style scoped>\n",
       "    .dataframe tbody tr th:only-of-type {\n",
       "        vertical-align: middle;\n",
       "    }\n",
       "\n",
       "    .dataframe tbody tr th {\n",
       "        vertical-align: top;\n",
       "    }\n",
       "\n",
       "    .dataframe thead th {\n",
       "        text-align: right;\n",
       "    }\n",
       "</style>\n",
       "<table border=\"1\" class=\"dataframe\">\n",
       "  <thead>\n",
       "    <tr style=\"text-align: right;\">\n",
       "      <th></th>\n",
       "      <th>Somatic variant</th>\n",
       "      <th>Somatic copy number</th>\n",
       "      <th>Rearrangement</th>\n",
       "      <th>Germline variant</th>\n",
       "      <th>Tumor mutational burden</th>\n",
       "      <th>Mutational signature</th>\n",
       "      <th>Aneuploidy</th>\n",
       "    </tr>\n",
       "  </thead>\n",
       "  <tbody>\n",
       "    <tr>\n",
       "      <th>PHIAL/TARGET</th>\n",
       "      <td>108.0</td>\n",
       "      <td>214.0</td>\n",
       "      <td>0.0</td>\n",
       "      <td>0.0</td>\n",
       "      <td>0.0</td>\n",
       "      <td>0.0</td>\n",
       "      <td>0.0</td>\n",
       "    </tr>\n",
       "    <tr>\n",
       "      <th>Molecular Oncology Almanac</th>\n",
       "      <td>226.0</td>\n",
       "      <td>227.0</td>\n",
       "      <td>108.0</td>\n",
       "      <td>0.0</td>\n",
       "      <td>4.0</td>\n",
       "      <td>35.0</td>\n",
       "      <td>75.0</td>\n",
       "    </tr>\n",
       "  </tbody>\n",
       "</table>\n",
       "</div>"
      ],
      "text/plain": [
       "                            Somatic variant  Somatic copy number  \\\n",
       "PHIAL/TARGET                          108.0                214.0   \n",
       "Molecular Oncology Almanac            226.0                227.0   \n",
       "\n",
       "                            Rearrangement  Germline variant  \\\n",
       "PHIAL/TARGET                          0.0               0.0   \n",
       "Molecular Oncology Almanac          108.0               0.0   \n",
       "\n",
       "                            Tumor mutational burden  Mutational signature  \\\n",
       "PHIAL/TARGET                                    0.0                   0.0   \n",
       "Molecular Oncology Almanac                      4.0                  35.0   \n",
       "\n",
       "                            Aneuploidy  \n",
       "PHIAL/TARGET                       0.0  \n",
       "Molecular Oncology Almanac        75.0  "
      ]
     },
     "execution_count": 35,
     "metadata": {},
     "output_type": "execute_result"
    }
   ],
   "source": [
    "counts_su2c"
   ]
  },
  {
   "cell_type": "code",
   "execution_count": null,
   "metadata": {},
   "outputs": [],
   "source": []
  },
  {
   "cell_type": "code",
   "execution_count": null,
   "metadata": {},
   "outputs": [],
   "source": []
  }
 ],
 "metadata": {
  "kernelspec": {
   "display_name": "moalmanac-paper",
   "language": "python",
   "name": "moalmanac-paper"
  },
  "language_info": {
   "codemirror_mode": {
    "name": "ipython",
    "version": 3
   },
   "file_extension": ".py",
   "mimetype": "text/x-python",
   "name": "python",
   "nbconvert_exporter": "python",
   "pygments_lexer": "ipython3",
   "version": "3.7.6"
  }
 },
 "nbformat": 4,
 "nbformat_minor": 4
}
