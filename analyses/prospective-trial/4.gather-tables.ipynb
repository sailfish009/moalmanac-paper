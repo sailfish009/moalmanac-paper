{
 "cells": [
  {
   "cell_type": "markdown",
   "metadata": {},
   "source": [
    "# Gather tables\n",
    "For ease, we gather the annotated tables and create an excel file out of them."
   ]
  },
  {
   "cell_type": "code",
   "execution_count": 1,
   "metadata": {},
   "outputs": [],
   "source": [
    "import glob\n",
    "import pandas\n",
    "import openpyxl\n",
    "\n",
    "therapies = pandas.read_csv('therapies.annotated.txt', sep='\\t')\n",
    "features = pandas.read_csv('merged-features.annotated.txt', sep='\\t')\n",
    "citations = pandas.read_csv('citations.annotated.txt', sep='\\t')\n",
    "\n",
    "outname = 'Supplementary Table 2.xlsx'\n",
    "\n",
    "with pandas.ExcelWriter(outname) as writer:  \n",
    "    therapies.to_excel(writer, sheet_name='therapies annotated')\n",
    "    features.to_excel(writer, sheet_name='features annotated')\n",
    "    citations.to_excel(writer, sheet_name='citations annotated')"
   ]
  },
  {
   "cell_type": "code",
   "execution_count": null,
   "metadata": {},
   "outputs": [],
   "source": []
  }
 ],
 "metadata": {
  "kernelspec": {
   "display_name": "moalmanac-paper",
   "language": "python",
   "name": "moalmanac-paper"
  },
  "language_info": {
   "codemirror_mode": {
    "name": "ipython",
    "version": 3
   },
   "file_extension": ".py",
   "mimetype": "text/x-python",
   "name": "python",
   "nbconvert_exporter": "python",
   "pygments_lexer": "ipython3",
   "version": "3.7.6"
  }
 },
 "nbformat": 4,
 "nbformat_minor": 4
}
