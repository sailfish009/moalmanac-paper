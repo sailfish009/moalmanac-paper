{
 "cells": [
  {
   "cell_type": "markdown",
   "metadata": {},
   "source": [
    "# Pubmed ID comparison\n",
    "We compare the union and intersection of PMIDs cited by the Molecular Oncology Almanac (MOAlmanac), CIVIC, and OncoKB. Not every source in MOAlmanac is associated with a PMID, as we directly cite FDA approvals and guidelines for some references.\n",
    "\n",
    "To not directly host the databases used, the raw files of OncoKB and CIViC are not hosted in the Github repository but I do have a dataframe committed, `pmids.txt`. `pmid-comparison.png` is then produced with `pmid-comparison.R`."
   ]
  },
  {
   "cell_type": "code",
   "execution_count": 59,
   "metadata": {},
   "outputs": [],
   "source": [
    "import glob\n",
    "import pandas as pd\n",
    "import pyupset\n",
    "import requests\n",
    "\n",
    "%matplotlib inline"
   ]
  },
  {
   "cell_type": "markdown",
   "metadata": {},
   "source": [
    "## Get CIViC citations\n",
    "Get via API"
   ]
  },
  {
   "cell_type": "code",
   "execution_count": 38,
   "metadata": {},
   "outputs": [
    {
     "name": "stdout",
     "output_type": "stream",
     "text": [
      "2677\n"
     ]
    }
   ],
   "source": [
    "handle_name = 'pmid.civic.2020-08-04.txt'\n",
    "handle = glob.glob(handle_name)\n",
    "\n",
    "if handle:\n",
    "    civic_records = pd.read_csv(handle[0], sep='\\t')\n",
    "else:\n",
    "    request = 'https://civicdb.org/api/sources?count=5000'\n",
    "    r = requests.get(request)\n",
    "    civic_records = r.json()['records']\n",
    "    records = []\n",
    "    for record in civic_records:\n",
    "        series = pd.Series(record).loc[['name', 'citation', 'citation_id', 'source_type', 'source_url']]\n",
    "        records.append(series.to_frame())\n",
    "    dataframe = pd.concat(records, axis=1, ignore_index=True).T\n",
    "    civic_records = dataframe[dataframe['source_type'].eq('PubMed')]\n",
    "    # civic_recods.to_csv(handle_name, sep='\\t', index=False)\n",
    "civic_pmids = civic_records['citation_id'].drop_duplicates().sort_values().tolist()\n",
    "print(len(civic_pmids))"
   ]
  },
  {
   "cell_type": "markdown",
   "metadata": {},
   "source": [
    "## MOAlmanac citations"
   ]
  },
  {
   "cell_type": "code",
   "execution_count": 44,
   "metadata": {},
   "outputs": [
    {
     "name": "stdout",
     "output_type": "stream",
     "text": [
      "146\n"
     ]
    }
   ],
   "source": [
    "handles = glob.glob('/Users/brendan/Github/moalmanac-admin/database/almanac/*')\n",
    "almanac = []\n",
    "\n",
    "columns = ['pmid']\n",
    "\n",
    "for handle in handles:\n",
    "    dtype = handle.split('/')[-1].split('.tsv')[0]\n",
    "    tmp = pd.read_csv(handle, sep='\\t')\n",
    "    tmp['dtype'] = dtype\n",
    "    almanac.append(tmp.loc[:, columns])\n",
    "almanac = pd.concat(almanac, ignore_index=True)\n",
    "almanac_pmids = almanac['pmid'].dropna().astype(int).drop_duplicates().sort_values().tolist()\n",
    "print(len(almanac_pmids))"
   ]
  },
  {
   "cell_type": "markdown",
   "metadata": {},
   "source": [
    "## OncoKB citations\n",
    "PMIDs for OncoKB relationships by listing the [300 biomarker-drug associations](https://www.oncokb.org/actionableGenes#levels=1,2,3,4,R1,R2) (65 genes, 52 tumor types, 6 levels of evidence; levels 1, 2, 3, 4, R1, and R2), downloading associations, and annotated for PMIDs through manual review."
   ]
  },
  {
   "cell_type": "code",
   "execution_count": 39,
   "metadata": {},
   "outputs": [
    {
     "name": "stdout",
     "output_type": "stream",
     "text": [
      "440\n"
     ]
    }
   ],
   "source": [
    "oncokb_records = pd.read_csv('oncokb_biomarker_drug_associations.annotated.tsv', sep='\\t')\n",
    "oncokb_pmids = []\n",
    "for list_ in oncokb_records['PMIDs'].fillna('').str.replace(' ', '').str.split(',').tolist():\n",
    "    oncokb_pmids.extend(list_)\n",
    "oncokb_pmids = pd.Series(oncokb_pmids)\n",
    "oncokb_pmids = oncokb_pmids[~oncokb_pmids.eq('')].sort_values().drop_duplicates().tolist()\n",
    "print(len(oncokb_pmids))"
   ]
  },
  {
   "cell_type": "markdown",
   "metadata": {},
   "source": [
    "## Combine"
   ]
  },
  {
   "cell_type": "code",
   "execution_count": 110,
   "metadata": {},
   "outputs": [
    {
     "name": "stdout",
     "output_type": "stream",
     "text": [
      "CIViC 2677\n",
      "MOAlmanac 146\n",
      "OncoKB 440\n"
     ]
    }
   ],
   "source": [
    "idx_civic = pd.Index(pd.Series(civic_pmids).astype(str).replace(' ', '').astype(int).tolist())\n",
    "idx_moalmanac = pd.Index(pd.Series(almanac_pmids).astype(str).replace(' ', '').astype(int).tolist())\n",
    "idx_oncokb = pd.Index(pd.Series(oncokb_pmids).astype(str).replace(' ', '').astype(int).tolist())\n",
    "idx_all = idx_civic.union(idx_moalmanac).union(idx_oncokb)\n",
    "\n",
    "df = pd.DataFrame(0, columns=['CIViC', 'MOAlmanac', 'OncoKB'], index=idx_all)\n",
    "df.loc[idx_civic, 'CIViC'] = 1\n",
    "df.loc[idx_moalmanac, 'MOAlmanac'] = 1\n",
    "df.loc[idx_oncokb, 'OncoKB'] = 1\n",
    "\n",
    "for column in df.columns:\n",
    "    print(column, df[column].eq(1).value_counts()[True])\n",
    "\n",
    "df.to_csv('pmid-comparison.txt', sep='\\t', index_label='pmid')"
   ]
  },
  {
   "cell_type": "code",
   "execution_count": null,
   "metadata": {},
   "outputs": [],
   "source": []
  }
 ],
 "metadata": {
  "kernelspec": {
   "display_name": "moalmanac-paper",
   "language": "python",
   "name": "moalmanac-paper"
  },
  "language_info": {
   "codemirror_mode": {
    "name": "ipython",
    "version": 3
   },
   "file_extension": ".py",
   "mimetype": "text/x-python",
   "name": "python",
   "nbconvert_exporter": "python",
   "pygments_lexer": "ipython3",
   "version": "3.7.6"
  }
 },
 "nbformat": 4,
 "nbformat_minor": 4
}
