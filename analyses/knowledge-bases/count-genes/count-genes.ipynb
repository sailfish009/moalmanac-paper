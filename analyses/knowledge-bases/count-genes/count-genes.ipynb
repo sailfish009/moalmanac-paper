{
 "cells": [
  {
   "cell_type": "code",
   "execution_count": 6,
   "metadata": {},
   "outputs": [],
   "source": [
    "import pandas as pd\n",
    "import tinydb"
   ]
  },
  {
   "cell_type": "code",
   "execution_count": 7,
   "metadata": {},
   "outputs": [],
   "source": [
    "almanac = tinydb.TinyDB('/Users/brendan/Github/moalmanac/moalmanac/datasources/almanac/almanac.0.4.7.json')\n",
    "\n",
    "almanac_sv = pd.DataFrame(almanac.table('Somatic Variant').all())\n",
    "almanac_cn = pd.DataFrame(almanac.table('Copy Number').all())\n",
    "almanac_rn = pd.DataFrame(almanac.table('Rearrangement').all())\n",
    "almanac_genes = almanac.table('genes').all()[0]['genes']"
   ]
  },
  {
   "cell_type": "code",
   "execution_count": 8,
   "metadata": {},
   "outputs": [
    {
     "data": {
      "text/plain": [
       "130"
      ]
     },
     "execution_count": 8,
     "metadata": {},
     "output_type": "execute_result"
    }
   ],
   "source": [
    "len(almanac_genes)"
   ]
  },
  {
   "cell_type": "code",
   "execution_count": 9,
   "metadata": {},
   "outputs": [
    {
     "data": {
      "text/plain": [
       "(719,)"
      ]
     },
     "execution_count": 9,
     "metadata": {},
     "output_type": "execute_result"
    }
   ],
   "source": [
    "cgc = pd.read_csv('/Users/brendan/Github/moalmanac/moalmanac/datasources/cancergenecensus/cancer_gene_census_v85.tsv', sep='\\t')\n",
    "cgc['Gene Symbol'].drop_duplicates().shape"
   ]
  },
  {
   "cell_type": "code",
   "execution_count": null,
   "metadata": {},
   "outputs": [],
   "source": []
  }
 ],
 "metadata": {
  "kernelspec": {
   "display_name": "moalmanac-paper",
   "language": "python",
   "name": "moalmanac-paper"
  },
  "language_info": {
   "codemirror_mode": {
    "name": "ipython",
    "version": 3
   },
   "file_extension": ".py",
   "mimetype": "text/x-python",
   "name": "python",
   "nbconvert_exporter": "python",
   "pygments_lexer": "ipython3",
   "version": "3.7.6"
  }
 },
 "nbformat": 4,
 "nbformat_minor": 4
}
