{
 "cells": [
  {
   "cell_type": "markdown",
   "metadata": {},
   "source": [
    "# Nearest neighbors from prospective cohorts\n",
    "We applied matchmaking to the prospective clinical trial (I-PREDICT). In this notebook, we look at the results; specifically...."
   ]
  },
  {
   "cell_type": "code",
   "execution_count": 1,
   "metadata": {},
   "outputs": [],
   "source": [
    "import glob\n",
    "import matplotlib.gridspec as gridspec\n",
    "import matplotlib.pyplot as plt\n",
    "import pandas as pd\n",
    "\n",
    "import sys\n",
    "sys.path.append('../../common/')\n",
    "import settings\n",
    "settings.set_arial_as_font()\n",
    "\n",
    "from settings import Colors\n",
    "tableau10 = Colors.tableau10\n",
    "\n",
    "%matplotlib inline"
   ]
  },
  {
   "cell_type": "code",
   "execution_count": 2,
   "metadata": {},
   "outputs": [
    {
     "name": "stderr",
     "output_type": "stream",
     "text": [
      "/Users/brendan/opt/miniconda3/envs/moalmanac-paper/lib/python3.7/site-packages/ipykernel_launcher.py:17: DeprecationWarning: The default dtype for empty Series will be 'object' instead of 'float64' in a future version. Specify a dtype explicitly to silence this warning.\n"
     ]
    }
   ],
   "source": [
    "handles = glob.glob('../prospective-trial/almanac_outputs/*/*.matchmaker.txt')\n",
    "\n",
    "summary = pd.read_csv('formatted/cell-lines.summary.txt', sep='\\t')\n",
    "zscores = pd.read_csv('formatted/sanger.gdsc.txt', sep='\\t')\n",
    "\n",
    "df = pd.concat([pd.read_csv(handle, sep='\\t', index_col=0) for handle in handles])\n",
    "df = df[~df['comparison'].eq('case-profile')]\n",
    "df.sort_values(['SNF: FDA & CGC'], ascending=True, inplace=True)\n",
    "df.reset_index(inplace=True)\n",
    "df['case'] = df['case'].astype(str)\n",
    "\n",
    "broad_to_ccle_map = summary.set_index('broad')['ccle_name'].dropna().to_dict()\n",
    "sanger_to_ccle_map = summary.set_index('sanger')['ccle_name'].dropna().to_dict()\n",
    "\n",
    "zscores['ccle_name'] = zscores['model_id'].replace(sanger_to_ccle_map)\n",
    "\n",
    "first_neighbors = pd.Series(index=df['case'].astype(str).sort_values().drop_duplicates())\n",
    "for label, group in df.groupby('case'):\n",
    "    nearest = group['comparison'].replace(broad_to_ccle_map).tolist()[0]\n",
    "    first_neighbors.loc[label] = nearest\n",
    "first_neighbors.name = 'nearest neighbor'\n",
    "first_neighbors = first_neighbors.to_frame().reset_index()\n",
    "\n"
   ]
  },
  {
   "cell_type": "code",
   "execution_count": 3,
   "metadata": {},
   "outputs": [],
   "source": [
    "for index in first_neighbors.index: \n",
    "    cell_line = first_neighbors.loc[index, 'nearest neighbor']\n",
    "    therapies = zscores[zscores['ccle_name'].eq(cell_line) & zscores['z_score'].le(-2)]['therapy_name'].tolist()\n",
    "    n = len(therapies)\n",
    "    first_neighbors.loc[index, 'sensitive therapies'] = ', '.join(therapies)\n",
    "    first_neighbors.loc[index, 'n'] = n"
   ]
  },
  {
   "cell_type": "code",
   "execution_count": 4,
   "metadata": {},
   "outputs": [
    {
     "data": {
      "text/plain": [
       "2.0     22\n",
       "0.0     19\n",
       "1.0     12\n",
       "5.0      6\n",
       "6.0      5\n",
       "4.0      4\n",
       "16.0     3\n",
       "8.0      3\n",
       "14.0     3\n",
       "11.0     2\n",
       "3.0      2\n",
       "9.0      2\n",
       "Name: n, dtype: int64"
      ]
     },
     "execution_count": 4,
     "metadata": {},
     "output_type": "execute_result"
    }
   ],
   "source": [
    "first_neighbors['n'].value_counts()"
   ]
  },
  {
   "cell_type": "code",
   "execution_count": 5,
   "metadata": {},
   "outputs": [
    {
     "data": {
      "text/plain": [
       "292.0"
      ]
     },
     "execution_count": 5,
     "metadata": {},
     "output_type": "execute_result"
    }
   ],
   "source": [
    "first_neighbors['n'].sum()"
   ]
  },
  {
   "cell_type": "code",
   "execution_count": 6,
   "metadata": {},
   "outputs": [
    {
     "data": {
      "text/plain": [
       "count    83.000000\n",
       "mean      3.518072\n",
       "std       4.185811\n",
       "min       0.000000\n",
       "25%       1.000000\n",
       "50%       2.000000\n",
       "75%       5.000000\n",
       "max      16.000000\n",
       "Name: n, dtype: float64"
      ]
     },
     "execution_count": 6,
     "metadata": {},
     "output_type": "execute_result"
    }
   ],
   "source": [
    "first_neighbors['n'].describe()"
   ]
  },
  {
   "cell_type": "code",
   "execution_count": 7,
   "metadata": {},
   "outputs": [],
   "source": [
    "import json\n",
    "\n",
    "handle = 'almanac-gdsc-mappings.json'\n",
    "def read_json(handle):\n",
    "    with open(handle, 'r') as json_handle:\n",
    "        return json.load(json_handle)\n",
    "almanac_map = read_json(handle)"
   ]
  },
  {
   "cell_type": "code",
   "execution_count": 8,
   "metadata": {},
   "outputs": [],
   "source": [
    "first_neighbors.to_csv('tables/ipredict/ipredict.nearest_neighbors.unannotated.txt', sep='\\t')"
   ]
  },
  {
   "cell_type": "code",
   "execution_count": 9,
   "metadata": {},
   "outputs": [
    {
     "data": {
      "text/html": [
       "<div>\n",
       "<style scoped>\n",
       "    .dataframe tbody tr th:only-of-type {\n",
       "        vertical-align: middle;\n",
       "    }\n",
       "\n",
       "    .dataframe tbody tr th {\n",
       "        vertical-align: top;\n",
       "    }\n",
       "\n",
       "    .dataframe thead th {\n",
       "        text-align: right;\n",
       "    }\n",
       "</style>\n",
       "<table border=\"1\" class=\"dataframe\">\n",
       "  <thead>\n",
       "    <tr style=\"text-align: right;\">\n",
       "      <th></th>\n",
       "      <th>case</th>\n",
       "      <th>nearest neighbor</th>\n",
       "      <th>sensitive therapies</th>\n",
       "      <th>n</th>\n",
       "    </tr>\n",
       "  </thead>\n",
       "  <tbody>\n",
       "    <tr>\n",
       "      <th>0</th>\n",
       "      <td>101</td>\n",
       "      <td>U118MG_CENTRAL_NERVOUS_SYSTEM</td>\n",
       "      <td>Rucaparib, Fludarabine</td>\n",
       "      <td>2.0</td>\n",
       "    </tr>\n",
       "    <tr>\n",
       "      <th>1</th>\n",
       "      <td>102</td>\n",
       "      <td>A375_SKIN</td>\n",
       "      <td>AS605240, Pilaralisib, LIMK1 inhibitor BMS4, R...</td>\n",
       "      <td>14.0</td>\n",
       "    </tr>\n",
       "    <tr>\n",
       "      <th>2</th>\n",
       "      <td>105</td>\n",
       "      <td>CAL29_URINARY_TRACT</td>\n",
       "      <td>AZD8835, PI3Ka_4409, Alpelisib, Taselisib</td>\n",
       "      <td>4.0</td>\n",
       "    </tr>\n",
       "    <tr>\n",
       "      <th>3</th>\n",
       "      <td>112</td>\n",
       "      <td>A549_LUNG</td>\n",
       "      <td>Tanespimycin, BPTES</td>\n",
       "      <td>2.0</td>\n",
       "    </tr>\n",
       "    <tr>\n",
       "      <th>4</th>\n",
       "      <td>115</td>\n",
       "      <td>CL40_LARGE_INTESTINE</td>\n",
       "      <td></td>\n",
       "      <td>0.0</td>\n",
       "    </tr>\n",
       "    <tr>\n",
       "      <th>...</th>\n",
       "      <td>...</td>\n",
       "      <td>...</td>\n",
       "      <td>...</td>\n",
       "      <td>...</td>\n",
       "    </tr>\n",
       "    <tr>\n",
       "      <th>78</th>\n",
       "      <td>A041</td>\n",
       "      <td>MHHNB11_AUTONOMIC_GANGLIA</td>\n",
       "      <td>CX-5461</td>\n",
       "      <td>1.0</td>\n",
       "    </tr>\n",
       "    <tr>\n",
       "      <th>79</th>\n",
       "      <td>A042</td>\n",
       "      <td>SKHEP1_LIVER</td>\n",
       "      <td>SN-38, AGI-5198</td>\n",
       "      <td>2.0</td>\n",
       "    </tr>\n",
       "    <tr>\n",
       "      <th>80</th>\n",
       "      <td>A043</td>\n",
       "      <td>SW837_LARGE_INTESTINE</td>\n",
       "      <td></td>\n",
       "      <td>0.0</td>\n",
       "    </tr>\n",
       "    <tr>\n",
       "      <th>81</th>\n",
       "      <td>A044</td>\n",
       "      <td>GMS10_CENTRAL_NERVOUS_SYSTEM</td>\n",
       "      <td>IAP_7638, MCT4_1422, IAP_5620, LCL161, AZD5582...</td>\n",
       "      <td>6.0</td>\n",
       "    </tr>\n",
       "    <tr>\n",
       "      <th>82</th>\n",
       "      <td>A045</td>\n",
       "      <td>ASPC1_PANCREAS</td>\n",
       "      <td></td>\n",
       "      <td>0.0</td>\n",
       "    </tr>\n",
       "  </tbody>\n",
       "</table>\n",
       "<p>83 rows × 4 columns</p>\n",
       "</div>"
      ],
      "text/plain": [
       "    case               nearest neighbor  \\\n",
       "0    101  U118MG_CENTRAL_NERVOUS_SYSTEM   \n",
       "1    102                      A375_SKIN   \n",
       "2    105            CAL29_URINARY_TRACT   \n",
       "3    112                      A549_LUNG   \n",
       "4    115           CL40_LARGE_INTESTINE   \n",
       "..   ...                            ...   \n",
       "78  A041      MHHNB11_AUTONOMIC_GANGLIA   \n",
       "79  A042                   SKHEP1_LIVER   \n",
       "80  A043          SW837_LARGE_INTESTINE   \n",
       "81  A044   GMS10_CENTRAL_NERVOUS_SYSTEM   \n",
       "82  A045                 ASPC1_PANCREAS   \n",
       "\n",
       "                                  sensitive therapies     n  \n",
       "0                              Rucaparib, Fludarabine   2.0  \n",
       "1   AS605240, Pilaralisib, LIMK1 inhibitor BMS4, R...  14.0  \n",
       "2           AZD8835, PI3Ka_4409, Alpelisib, Taselisib   4.0  \n",
       "3                                 Tanespimycin, BPTES   2.0  \n",
       "4                                                       0.0  \n",
       "..                                                ...   ...  \n",
       "78                                            CX-5461   1.0  \n",
       "79                                    SN-38, AGI-5198   2.0  \n",
       "80                                                      0.0  \n",
       "81  IAP_7638, MCT4_1422, IAP_5620, LCL161, AZD5582...   6.0  \n",
       "82                                                      0.0  \n",
       "\n",
       "[83 rows x 4 columns]"
      ]
     },
     "execution_count": 9,
     "metadata": {},
     "output_type": "execute_result"
    }
   ],
   "source": [
    "first_neighbors"
   ]
  },
  {
   "cell_type": "code",
   "execution_count": 10,
   "metadata": {},
   "outputs": [
    {
     "data": {
      "text/html": [
       "<div>\n",
       "<style scoped>\n",
       "    .dataframe tbody tr th:only-of-type {\n",
       "        vertical-align: middle;\n",
       "    }\n",
       "\n",
       "    .dataframe tbody tr th {\n",
       "        vertical-align: top;\n",
       "    }\n",
       "\n",
       "    .dataframe thead th {\n",
       "        text-align: right;\n",
       "    }\n",
       "</style>\n",
       "<table border=\"1\" class=\"dataframe\">\n",
       "  <thead>\n",
       "    <tr style=\"text-align: right;\">\n",
       "      <th></th>\n",
       "      <th>case</th>\n",
       "      <th>nearest neighbor</th>\n",
       "      <th>sensitive therapies</th>\n",
       "      <th>n</th>\n",
       "      <th>moalmanac_n_overlap</th>\n",
       "      <th>ipredict_n_overlap</th>\n",
       "    </tr>\n",
       "  </thead>\n",
       "  <tbody>\n",
       "    <tr>\n",
       "      <th>0</th>\n",
       "      <td>157</td>\n",
       "      <td>A204_SOFT_TISSUE</td>\n",
       "      <td>Ponatinib, Pazopanib, TL-2-105, Cabozantinib, ...</td>\n",
       "      <td>16</td>\n",
       "      <td>0</td>\n",
       "      <td>0</td>\n",
       "    </tr>\n",
       "    <tr>\n",
       "      <th>1</th>\n",
       "      <td>66</td>\n",
       "      <td>A204_SOFT_TISSUE</td>\n",
       "      <td>Ponatinib, Pazopanib, TL-2-105, Cabozantinib, ...</td>\n",
       "      <td>16</td>\n",
       "      <td>0</td>\n",
       "      <td>0</td>\n",
       "    </tr>\n",
       "    <tr>\n",
       "      <th>2</th>\n",
       "      <td>A009</td>\n",
       "      <td>A204_SOFT_TISSUE</td>\n",
       "      <td>Ponatinib, Pazopanib, TL-2-105, Cabozantinib, ...</td>\n",
       "      <td>16</td>\n",
       "      <td>0</td>\n",
       "      <td>0</td>\n",
       "    </tr>\n",
       "    <tr>\n",
       "      <th>3</th>\n",
       "      <td>102</td>\n",
       "      <td>A375_SKIN</td>\n",
       "      <td>AS605240, Pilaralisib, LIMK1 inhibitor BMS4, R...</td>\n",
       "      <td>14</td>\n",
       "      <td>0</td>\n",
       "      <td>0</td>\n",
       "    </tr>\n",
       "    <tr>\n",
       "      <th>4</th>\n",
       "      <td>119</td>\n",
       "      <td>A375_SKIN</td>\n",
       "      <td>AS605240, Pilaralisib, LIMK1 inhibitor BMS4, R...</td>\n",
       "      <td>14</td>\n",
       "      <td>0</td>\n",
       "      <td>0</td>\n",
       "    </tr>\n",
       "    <tr>\n",
       "      <th>...</th>\n",
       "      <td>...</td>\n",
       "      <td>...</td>\n",
       "      <td>...</td>\n",
       "      <td>...</td>\n",
       "      <td>...</td>\n",
       "      <td>...</td>\n",
       "    </tr>\n",
       "    <tr>\n",
       "      <th>78</th>\n",
       "      <td>A043</td>\n",
       "      <td>SW837_LARGE_INTESTINE</td>\n",
       "      <td>NaN</td>\n",
       "      <td>0</td>\n",
       "      <td>0</td>\n",
       "      <td>0</td>\n",
       "    </tr>\n",
       "    <tr>\n",
       "      <th>79</th>\n",
       "      <td>26</td>\n",
       "      <td>T24_URINARY_TRACT</td>\n",
       "      <td>NaN</td>\n",
       "      <td>0</td>\n",
       "      <td>0</td>\n",
       "      <td>0</td>\n",
       "    </tr>\n",
       "    <tr>\n",
       "      <th>80</th>\n",
       "      <td>A018</td>\n",
       "      <td>T24_URINARY_TRACT</td>\n",
       "      <td>NaN</td>\n",
       "      <td>0</td>\n",
       "      <td>0</td>\n",
       "      <td>0</td>\n",
       "    </tr>\n",
       "    <tr>\n",
       "      <th>81</th>\n",
       "      <td>101</td>\n",
       "      <td>U118MG_CENTRAL_NERVOUS_SYSTEM</td>\n",
       "      <td>Rucaparib, Fludarabine</td>\n",
       "      <td>2</td>\n",
       "      <td>0</td>\n",
       "      <td>0</td>\n",
       "    </tr>\n",
       "    <tr>\n",
       "      <th>82</th>\n",
       "      <td>121</td>\n",
       "      <td>VMCUB1_URINARY_TRACT</td>\n",
       "      <td>TW 37</td>\n",
       "      <td>1</td>\n",
       "      <td>0</td>\n",
       "      <td>0</td>\n",
       "    </tr>\n",
       "  </tbody>\n",
       "</table>\n",
       "<p>83 rows × 6 columns</p>\n",
       "</div>"
      ],
      "text/plain": [
       "    case               nearest neighbor  \\\n",
       "0    157               A204_SOFT_TISSUE   \n",
       "1     66               A204_SOFT_TISSUE   \n",
       "2   A009               A204_SOFT_TISSUE   \n",
       "3    102                      A375_SKIN   \n",
       "4    119                      A375_SKIN   \n",
       "..   ...                            ...   \n",
       "78  A043          SW837_LARGE_INTESTINE   \n",
       "79    26              T24_URINARY_TRACT   \n",
       "80  A018              T24_URINARY_TRACT   \n",
       "81   101  U118MG_CENTRAL_NERVOUS_SYSTEM   \n",
       "82   121           VMCUB1_URINARY_TRACT   \n",
       "\n",
       "                                  sensitive therapies   n  \\\n",
       "0   Ponatinib, Pazopanib, TL-2-105, Cabozantinib, ...  16   \n",
       "1   Ponatinib, Pazopanib, TL-2-105, Cabozantinib, ...  16   \n",
       "2   Ponatinib, Pazopanib, TL-2-105, Cabozantinib, ...  16   \n",
       "3   AS605240, Pilaralisib, LIMK1 inhibitor BMS4, R...  14   \n",
       "4   AS605240, Pilaralisib, LIMK1 inhibitor BMS4, R...  14   \n",
       "..                                                ...  ..   \n",
       "78                                                NaN   0   \n",
       "79                                                NaN   0   \n",
       "80                                                NaN   0   \n",
       "81                             Rucaparib, Fludarabine   2   \n",
       "82                                              TW 37   1   \n",
       "\n",
       "    moalmanac_n_overlap  ipredict_n_overlap  \n",
       "0                     0                   0  \n",
       "1                     0                   0  \n",
       "2                     0                   0  \n",
       "3                     0                   0  \n",
       "4                     0                   0  \n",
       "..                  ...                 ...  \n",
       "78                    0                   0  \n",
       "79                    0                   0  \n",
       "80                    0                   0  \n",
       "81                    0                   0  \n",
       "82                    0                   0  \n",
       "\n",
       "[83 rows x 6 columns]"
      ]
     },
     "execution_count": 10,
     "metadata": {},
     "output_type": "execute_result"
    }
   ],
   "source": [
    "first_neighbors = pd.read_csv('tables/ipredict/ipredict.nearest_neighbors.annotated.txt', sep='\\t', index_col=0).reset_index(drop=True)\n",
    "first_neighbors"
   ]
  },
  {
   "cell_type": "code",
   "execution_count": 11,
   "metadata": {},
   "outputs": [],
   "source": [
    "first_neighbors['delta_moalmanac'] = first_neighbors['n'].subtract(first_neighbors['moalmanac_n_overlap'].astype(int))\n",
    "first_neighbors['delta_ipredict'] = first_neighbors['n'].subtract(first_neighbors['ipredict_n_overlap'].astype(int))"
   ]
  },
  {
   "cell_type": "code",
   "execution_count": 12,
   "metadata": {},
   "outputs": [
    {
     "data": {
      "text/plain": [
       "count    83.000000\n",
       "mean      3.397590\n",
       "std       4.169985\n",
       "min       0.000000\n",
       "25%       1.000000\n",
       "50%       2.000000\n",
       "75%       5.000000\n",
       "max      16.000000\n",
       "Name: delta_moalmanac, dtype: float64"
      ]
     },
     "execution_count": 12,
     "metadata": {},
     "output_type": "execute_result"
    }
   ],
   "source": [
    "first_neighbors['delta_moalmanac'].describe()"
   ]
  },
  {
   "cell_type": "code",
   "execution_count": 13,
   "metadata": {},
   "outputs": [
    {
     "data": {
      "text/plain": [
       "count    83.000000\n",
       "mean      3.469880\n",
       "std       4.162367\n",
       "min       0.000000\n",
       "25%       1.000000\n",
       "50%       2.000000\n",
       "75%       5.000000\n",
       "max      16.000000\n",
       "Name: delta_ipredict, dtype: float64"
      ]
     },
     "execution_count": 13,
     "metadata": {},
     "output_type": "execute_result"
    }
   ],
   "source": [
    "first_neighbors['delta_ipredict'].describe()"
   ]
  },
  {
   "cell_type": "code",
   "execution_count": 14,
   "metadata": {},
   "outputs": [
    {
     "data": {
      "text/plain": [
       "count    83.000000\n",
       "mean      3.518072\n",
       "std       4.185811\n",
       "min       0.000000\n",
       "25%       1.000000\n",
       "50%       2.000000\n",
       "75%       5.000000\n",
       "max      16.000000\n",
       "Name: n, dtype: float64"
      ]
     },
     "execution_count": 14,
     "metadata": {},
     "output_type": "execute_result"
    }
   ],
   "source": [
    "first_neighbors['n'].describe()"
   ]
  },
  {
   "cell_type": "code",
   "execution_count": 15,
   "metadata": {},
   "outputs": [
    {
     "data": {
      "text/plain": [
       "2.0"
      ]
     },
     "execution_count": 15,
     "metadata": {},
     "output_type": "execute_result"
    }
   ],
   "source": [
    "first_neighbors['n'].median()"
   ]
  },
  {
   "cell_type": "code",
   "execution_count": 16,
   "metadata": {},
   "outputs": [
    {
     "data": {
      "text/plain": [
       "True     79\n",
       "False     4\n",
       "Name: moalmanac_n_overlap, dtype: int64"
      ]
     },
     "execution_count": 16,
     "metadata": {},
     "output_type": "execute_result"
    }
   ],
   "source": [
    "first_neighbors['moalmanac_n_overlap'].eq(0).value_counts()"
   ]
  },
  {
   "cell_type": "code",
   "execution_count": 17,
   "metadata": {},
   "outputs": [
    {
     "data": {
      "text/plain": [
       "True     81\n",
       "False     2\n",
       "Name: ipredict_n_overlap, dtype: int64"
      ]
     },
     "execution_count": 17,
     "metadata": {},
     "output_type": "execute_result"
    }
   ],
   "source": [
    "first_neighbors['ipredict_n_overlap'].eq(0).value_counts()"
   ]
  },
  {
   "cell_type": "code",
   "execution_count": 26,
   "metadata": {},
   "outputs": [
    {
     "name": "stdout",
     "output_type": "stream",
     "text": [
      "2.0\n",
      "2.32\n"
     ]
    }
   ],
   "source": [
    "therapies = pd.read_csv('../prospective-trial/therapies.annotated.txt', sep='\\t')\n",
    "print(therapies[therapies['almanac-evidence-strongest'].notnull()]['patient_id'].value_counts().median())\n",
    "print(therapies[therapies['almanac-evidence-strongest'].notnull()]['patient_id'].value_counts().mean())"
   ]
  },
  {
   "cell_type": "code",
   "execution_count": null,
   "metadata": {},
   "outputs": [],
   "source": []
  }
 ],
 "metadata": {
  "kernelspec": {
   "display_name": "moalmanac-paper",
   "language": "python",
   "name": "moalmanac-paper"
  },
  "language_info": {
   "codemirror_mode": {
    "name": "ipython",
    "version": 3
   },
   "file_extension": ".py",
   "mimetype": "text/x-python",
   "name": "python",
   "nbconvert_exporter": "python",
   "pygments_lexer": "ipython3",
   "version": "3.7.6"
  }
 },
 "nbformat": 4,
 "nbformat_minor": 4
}
