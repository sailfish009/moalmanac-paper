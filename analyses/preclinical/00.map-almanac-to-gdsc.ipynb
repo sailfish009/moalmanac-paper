{
 "cells": [
  {
   "cell_type": "markdown",
   "metadata": {},
   "source": [
    "# Create a mapping between therapies catalogued in the Molecular Oncology Almanac and those profiles in GDSC\n",
    "We read the fitted dose response curves from GDSC2 and create a dictionary, mapping almanac therapies of keys to a list of GDSC therapies. \n",
    "\n",
    "In summary,\n",
    "- The Molecular Oncology Almanac contains 124 therapies. \n",
    "- GDSC2 tested 192 therapies and GDSC1 tested 345, 257 of which do not appear in GDSC1.\n",
    "- We mapped almanac therapies to GDSC, with GDSC2 measurements taking priority. \n",
    "- In all, 59 therapies were mapped to GDSC therapies\n",
    "\n",
    "To do items\n",
    "- Relabel combination therapies so they are always alphabetically sorted\n",
    "- All therapies, even those in combinations, should have the first letter capitalized"
   ]
  },
  {
   "cell_type": "code",
   "execution_count": 1,
   "metadata": {},
   "outputs": [
    {
     "data": {
      "text/plain": [
       "(124, 2)"
      ]
     },
     "execution_count": 1,
     "metadata": {},
     "output_type": "execute_result"
    }
   ],
   "source": [
    "import glob\n",
    "import pandas as pd\n",
    "import json\n",
    "\n",
    "gdsc1 = pd.read_excel('source/gdsc/GDSC1_fitted_dose_response_25Feb20.xlsx')\n",
    "gdsc1 = gdsc1['DRUG_NAME'].drop_duplicates().sort_values()\n",
    "\n",
    "gdsc2 = pd.read_excel('source/gdsc/GDSC2_fitted_dose_response_25Feb20.xlsx')\n",
    "gdsc2 = gdsc2['DRUG_NAME'].drop_duplicates().sort_values()\n",
    "\n",
    "gdsc1 = gdsc1[~gdsc1.isin(gdsc2)]\n",
    "\n",
    "handles = glob.glob('/Users/brendan/Github/moalmanac-admin/database/almanac/*')\n",
    "almanac = []\n",
    "\n",
    "columns = [ 'therapy_name', 'therapy_type']\n",
    "\n",
    "for handle in handles:\n",
    "    dtype = handle.split('/')[-1].split('.tsv')[0]\n",
    "    tmp = pd.read_csv(handle, sep='\\t')\n",
    "    tmp['dtype'] = dtype\n",
    "    almanac.append(tmp.loc[:, columns])\n",
    "    \n",
    "almanac = pd.concat(almanac, ignore_index=True)\n",
    "almanac = almanac[~almanac['therapy_name'].isnull()].sort_values('therapy_name')\n",
    "almanac['therapy_type'] = almanac['therapy_type'].replace('Targeted Therapy', 'Targeted therapy')\n",
    "almanac.drop_duplicates(inplace=True)\n",
    "almanac.shape"
   ]
  },
  {
   "cell_type": "code",
   "execution_count": 2,
   "metadata": {},
   "outputs": [],
   "source": [
    "dictionary = {}\n",
    "for idx in almanac.index:\n",
    "    therapy = almanac.loc[idx, 'therapy_name']\n",
    "    therapy_type = almanac.loc[idx, 'therapy_type']\n",
    "    dictionary[therapy] = {}\n",
    "    dictionary[therapy]['type'] = therapy_type\n",
    "    dictionary[therapy]['gdsc'] = []"
   ]
  },
  {
   "cell_type": "markdown",
   "metadata": {},
   "source": [
    "## Map GDSC1\n",
    "Earlier in the notebook we subset GDSC1 for therapies that do not appear in GDSC2. We map any almanac therapies to these drugs."
   ]
  },
  {
   "cell_type": "code",
   "execution_count": 3,
   "metadata": {},
   "outputs": [
    {
     "data": {
      "text/plain": [
       "122       Alectinib\n",
       "286       Bleomycin\n",
       "216       Bosutinib\n",
       "164    Cabozantinib\n",
       "455       Cetuximab\n",
       "161        Imatinib\n",
       "632    Lenalidomide\n",
       "284      Omipalisib\n",
       "16        Pazopanib\n",
       "141       Ponatinib\n",
       "402     Quizartinib\n",
       "311       Rucaparib\n",
       "487         SU11274\n",
       "721       Sunitinib\n",
       "173       Veliparib\n",
       "Name: therapy_name, dtype: object"
      ]
     },
     "execution_count": 3,
     "metadata": {},
     "output_type": "execute_result"
    }
   ],
   "source": [
    "almanac['therapy_name'][almanac['therapy_name'].isin(gdsc1)].sort_values()"
   ]
  },
  {
   "cell_type": "code",
   "execution_count": 4,
   "metadata": {},
   "outputs": [],
   "source": [
    "for therapy in almanac['therapy_name'][almanac['therapy_name'].isin(gdsc1)].sort_values().tolist():\n",
    "    dictionary[therapy]['gdsc'] = [therapy]"
   ]
  },
  {
   "cell_type": "markdown",
   "metadata": {},
   "source": [
    "## Map GDSC2\n",
    "Likewise, we map any almanac therapies to GDSC2 therapies"
   ]
  },
  {
   "cell_type": "code",
   "execution_count": 5,
   "metadata": {},
   "outputs": [
    {
     "data": {
      "text/plain": [
       "177    5-Fluorouracil\n",
       "361           AZD3759\n",
       "553           AZD8186\n",
       "374          Afatinib\n",
       "530         Alpelisib\n",
       "664        Bortezomib\n",
       "26          Cisplatin\n",
       "706        Crizotinib\n",
       "297        Dabrafenib\n",
       "192         Dasatinib\n",
       "485         Erlotinib\n",
       "354         Gefitinib\n",
       "131               JQ1\n",
       "679         Lapatinib\n",
       "231           MK-2206\n",
       "210         Nilotinib\n",
       "307          Olaparib\n",
       "367       Osimertinib\n",
       "134       Palbociclib\n",
       "538        Pictilisib\n",
       "423       Ruxolitinib\n",
       "517       Selumetinib\n",
       "240         Sorafenib\n",
       "19        Talazoparib\n",
       "712         Tamoxifen\n",
       "300        Trametinib\n",
       "Name: therapy_name, dtype: object"
      ]
     },
     "execution_count": 5,
     "metadata": {},
     "output_type": "execute_result"
    }
   ],
   "source": [
    "almanac['therapy_name'][almanac['therapy_name'].isin(gdsc2)].sort_values()"
   ]
  },
  {
   "cell_type": "code",
   "execution_count": 6,
   "metadata": {},
   "outputs": [
    {
     "data": {
      "text/plain": [
       "19581     5-Fluorouracil\n",
       "105110            ABT737\n",
       "107352          AGI-5198\n",
       "70082           AGI-6780\n",
       "126888           AMG-319\n",
       "               ...      \n",
       "64214            Wnt-C59\n",
       "38410             XAV939\n",
       "35075           YK-4-279\n",
       "14067           ZM447439\n",
       "84651        Zoledronate\n",
       "Name: DRUG_NAME, Length: 192, dtype: object"
      ]
     },
     "execution_count": 6,
     "metadata": {},
     "output_type": "execute_result"
    }
   ],
   "source": [
    "gdsc2"
   ]
  },
  {
   "cell_type": "code",
   "execution_count": 7,
   "metadata": {},
   "outputs": [],
   "source": [
    "for therapy in almanac['therapy_name'][almanac['therapy_name'].isin(gdsc2)].sort_values().tolist():\n",
    "    dictionary[therapy]['gdsc'] = [therapy]\n",
    "\n",
    "dictionary['AMG 510']['gdsc'] = ['KRAS (G12C) Inhibitor-12']\n",
    "dictionary['nutlin-3']['gdsc'] = ['Nutlin-3a (-)']\n",
    "dictionary['Vemurafenib']['gdsc'] = ['PLX-4720']"
   ]
  },
  {
   "cell_type": "markdown",
   "metadata": {},
   "source": [
    "## Combination therapies\n",
    "Some therapies catalogued in the Molecular Oncology Almanac are cocktails, we catalogue them here."
   ]
  },
  {
   "cell_type": "code",
   "execution_count": 8,
   "metadata": {},
   "outputs": [
    {
     "data": {
      "text/plain": [
       "454                      Buparlisib + Trametinib\n",
       "699    Carbogen and nicotinamide  + radiotherapy\n",
       "268                      Dabrafenib + Trametinib\n",
       "357                       Durvalumab + Gefitinib\n",
       "356                     Durvalumab + Osimertinib\n",
       "296                           GANT61 + Obatoclax\n",
       "282                     Ipilimumab + Vemurafenib\n",
       "294                  Ixazomib + Interferon-alpha\n",
       "680                      Lapatinib + Trastuzumab\n",
       "708           Neoadjuvant chemotherapy + surgery\n",
       "93                        Nivolumab + ipilimumab\n",
       "453                     Palbociclib + Trametinib\n",
       "167                   Panobinostat + Azacitidine\n",
       "325                    Pembrolizumab + Nivolumab\n",
       "682                     Pertuzumab + Trastuzumab\n",
       "386                        Tamoxifen + Letrozole\n",
       "469                 Trametinib + FGFR1 Inhibitor\n",
       "686                   Trastuzumab + Chemotherapy\n",
       "677                      Trastuzumab + Lapatinib\n",
       "305                      Vemurafenib + Cetuximab\n",
       "278                    Vemurafenib + Cobimetinib\n",
       "302                      Vemurafenib + Neratinib\n",
       "285                    Vemurafenib + Selumetinib\n",
       "293                     Vemurafenib + Trametinib\n",
       "Name: therapy_name, dtype: object"
      ]
     },
     "execution_count": 8,
     "metadata": {},
     "output_type": "execute_result"
    }
   ],
   "source": [
    "almanac['therapy_name'][almanac['therapy_name'].str.contains('\\+')]"
   ]
  },
  {
   "cell_type": "code",
   "execution_count": 9,
   "metadata": {},
   "outputs": [],
   "source": [
    "dictionary['Buparlisib + Trametinib']['gdsc'] = ['Buparlisib', 'Trametinib']\n",
    "dictionary['Dabrafenib + Trametinib']['gdsc'] = ['Dabrafenib', 'Trametinib']\n",
    "dictionary['Durvalumab + Osimertinib']['gdsc'] = ['Osimertinib']\n",
    "dictionary['GANT61 + Obatoclax']['gdsc'] = ['Obatoclax Mesylate']\n",
    "dictionary['Ipilimumab + Vemurafenib']['gdsc'] = ['PLX-4720']\n",
    "dictionary['Lapatinib + Trastuzumab']['gdsc'] = ['Lapatinib']\n",
    "dictionary['Palbociclib + Trametinib']['gdsc'] = ['Palbociclib', 'Trametinib']\n",
    "dictionary['Tamoxifen + Letrozole']['gdsc'] = ['Tamoxifen']\n",
    "dictionary['Trametinib + FGFR1 Inhibitor']['gdsc'] = ['Trametinib']\n",
    "dictionary['Trastuzumab + Lapatinib']['gdsc'] = ['Lapatinib']\n",
    "dictionary['Vemurafenib + Cetuximab']['gdsc'] = ['PLX-4720', 'Cetuximab']\n",
    "dictionary['Vemurafenib + Cobimetinib']['gdsc'] = ['PLX-4720']\n",
    "dictionary['Vemurafenib + Neratinib']['gdsc'] = ['PLX-4720']\n",
    "dictionary['Vemurafenib + Selumetinib']['gdsc'] = ['PLX-4720', 'Selumetinib']\n",
    "dictionary['Vemurafenib + Trametinib']['gdsc'] = ['PLX-4720', 'Trametinib']"
   ]
  },
  {
   "cell_type": "code",
   "execution_count": 10,
   "metadata": {},
   "outputs": [
    {
     "name": "stdout",
     "output_type": "stream",
     "text": [
      "5-Fluorouracil\n",
      "AMG 510\n",
      "AZD3759\n",
      "AZD8186\n",
      "Afatinib\n",
      "Alectinib\n",
      "Alpelisib\n",
      "Bleomycin\n",
      "Bortezomib\n",
      "Bosutinib\n",
      "Buparlisib + Trametinib\n",
      "Cabozantinib\n",
      "Cetuximab\n",
      "Cisplatin\n",
      "Crizotinib\n",
      "Dabrafenib\n",
      "Dabrafenib + Trametinib\n",
      "Dasatinib\n",
      "Durvalumab + Osimertinib\n",
      "Erlotinib\n",
      "GANT61 + Obatoclax\n",
      "Gefitinib\n",
      "Imatinib\n",
      "Ipilimumab + Vemurafenib\n",
      "JQ1\n",
      "Lapatinib\n",
      "Lapatinib + Trastuzumab\n",
      "Lenalidomide\n",
      "MK-2206\n",
      "Nilotinib\n",
      "Olaparib\n",
      "Omipalisib\n",
      "Osimertinib\n",
      "Palbociclib\n",
      "Palbociclib + Trametinib\n",
      "Pazopanib\n",
      "Pictilisib\n",
      "Ponatinib\n",
      "Quizartinib\n",
      "Rucaparib\n",
      "Ruxolitinib\n",
      "SU11274\n",
      "Selumetinib\n",
      "Sorafenib\n",
      "Sunitinib\n",
      "Talazoparib\n",
      "Tamoxifen\n",
      "Tamoxifen + Letrozole\n",
      "Trametinib\n",
      "Trametinib + FGFR1 Inhibitor\n",
      "Trastuzumab + Lapatinib\n",
      "Veliparib\n",
      "Vemurafenib\n",
      "Vemurafenib + Cetuximab\n",
      "Vemurafenib + Cobimetinib\n",
      "Vemurafenib + Neratinib\n",
      "Vemurafenib + Selumetinib\n",
      "Vemurafenib + Trametinib\n",
      "nutlin-3\n"
     ]
    },
    {
     "data": {
      "text/plain": [
       "59"
      ]
     },
     "execution_count": 10,
     "metadata": {},
     "output_type": "execute_result"
    }
   ],
   "source": [
    "count = 0\n",
    "for key in list(dictionary.keys()):\n",
    "    if dictionary[key]['gdsc']:\n",
    "        print(key)\n",
    "        count += 1\n",
    "count"
   ]
  },
  {
   "cell_type": "markdown",
   "metadata": {},
   "source": [
    "## Export"
   ]
  },
  {
   "cell_type": "code",
   "execution_count": 11,
   "metadata": {},
   "outputs": [],
   "source": [
    "def write(handle, dictionary):\n",
    "    with open(handle, 'w') as json_handle:\n",
    "        json.dump(dictionary, json_handle, sort_keys=True, indent=4)\n",
    "\n",
    "write('almanac-gdsc-mappings.json', dictionary)"
   ]
  },
  {
   "cell_type": "code",
   "execution_count": null,
   "metadata": {},
   "outputs": [],
   "source": []
  }
 ],
 "metadata": {
  "kernelspec": {
   "display_name": "moalmanac",
   "language": "python",
   "name": "moalmanac"
  },
  "language_info": {
   "codemirror_mode": {
    "name": "ipython",
    "version": 3
   },
   "file_extension": ".py",
   "mimetype": "text/x-python",
   "name": "python",
   "nbconvert_exporter": "python",
   "pygments_lexer": "ipython3",
   "version": "3.6.10"
  }
 },
 "nbformat": 4,
 "nbformat_minor": 4
}
